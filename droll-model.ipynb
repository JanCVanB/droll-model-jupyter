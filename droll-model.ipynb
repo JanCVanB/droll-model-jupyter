{
 "cells": [
  {
   "cell_type": "markdown",
   "metadata": {
    "slideshow": {
     "slide_type": "slide"
    }
   },
   "source": [
    "# The 20-Minute Modeling Tool\n",
    "\n",
    "Let's build a modeling tool in 20 minutes!\n",
    "\n",
    "We'll use [Neo4j](http://neo4j.com/) for data storage, [Python](https://www.python.org/) for data processing, [vis.js](http://visjs.org/) for data visualization.\n",
    "\n",
    "## Neo4j\n",
    "\n",
    "From [Wikipedia's Neo4j article](https://en.wikipedia.org/wiki/Neo4j) (with ephasis by me):\n",
    "\n",
    "> Neo4j is an **open-source graph database** implemented in Java and **accessible from software written in other languages** using the **Cypher query language** through a transactional HTTP endpoint. The developers describe Neo4j as an ACID-compliant transactional database with native graph storage and processing. **Neo4j is the most popular graph database.**\n",
    "\n",
    "A graph database is simply a set of **nodes** (things) and **relationships** (pairs of things). Both nodes and relationships can have labels and properties associated with them. Graph-traversal algorithms (both built-in and custom-built) read the properties of nodes and traverse the relationships between them to return nodes and relationships of interest.\n",
    "\n",
    "## 20-second overview\n",
    "\n",
    "In this session, we'll connect to the blank Neo4j database running on our local server.\n",
    "\n",
    "Then, we'll populate it with nodes that will define:\n",
    "\n",
    "* our metamodel \\*\n",
    "* our project model\n",
    "* our project data\n",
    "\n",
    "and relationships that will define:\n",
    "\n",
    "* how our metamodel \\* connects within itself\n",
    "* how our project model conforms to our metamodel \\* and connects within itself\n",
    "* how our project data conforms to our project model and connects within itself\n",
    "\n",
    "Finally, we'll query our database and obtain useful views of our data, as well as suggestions for what additional data could be defined (what to ask our stakeholders).\n",
    "\n",
    "\\* We'll use a sloppy subset of UML in this session, but any metamodel is possible - SysML, UML, multi-layered ontologies, etc.\n",
    "\n",
    "## Jack and Jill and Kidney Failure\n",
    "\n",
    "Jack needs a kidney transplant or he will die. We will find him a donor with modeling!"
   ]
  },
  {
   "cell_type": "markdown",
   "metadata": {
    "slideshow": {
     "slide_type": "slide"
    }
   },
   "source": [
    "## Connect to the Neo4j Database\n",
    "\n",
    "First we'll connect to the database and delete any existing nodes and relationships.\n",
    "\n",
    "We'll communicate with Neo4j through the `py2neo` Python library."
   ]
  },
  {
   "cell_type": "code",
   "execution_count": 1,
   "metadata": {
    "collapsed": false,
    "slideshow": {
     "slide_type": "fragment"
    }
   },
   "outputs": [],
   "source": [
    "from py2neo import authenticate, Graph\n",
    "from py2neo.error import Unauthorized\n",
    "\n",
    "graph = Graph()\n",
    "\n",
    "try:\n",
    "    # Clear any existing nodes and relationships in the database\n",
    "    graph.delete_all()\n",
    "except Unauthorized:\n",
    "    # If you have a username/password, replace neo4j/password with your username/password\n",
    "    authenticate('localhost:7474', 'neo4j', 'password')\n",
    "    graph.delete_all()"
   ]
  },
  {
   "cell_type": "markdown",
   "metadata": {
    "slideshow": {
     "slide_type": "slide"
    }
   },
   "source": [
    "## Elements and Connections\n",
    "\n",
    "Modeling is all about elements and connections. Similarly, graphs are all about nodes and relationships.\n",
    "\n",
    "However, we'll draw a clear distinction between element/connection and node/relationship right now - **both elements and connections are nodes.**\n",
    "\n",
    "### Connections are Nodes?\n",
    "\n",
    "In Neo4j, relationships do not have relationships. Relationships know little more than a string label.\n",
    "\n",
    "On the other hand, connections have a lot of information in them - a connection's source and target are specific elements, and its generalization and specializations are other specific connections.\n",
    "\n",
    "Because a connection has relationships to those elements and connections, it cannot be a relationship itself.\n",
    "\n",
    "## Metamodel Elements\n",
    "\n",
    "We need a metamodel - the logical framework that will eventually structure our model.\n",
    "\n",
    "For this project, we'll use just two elements and one connection from UML, but the entirety of SysML can be defined in this same way.\n",
    "\n",
    "Let's define Class and Interface."
   ]
  },
  {
   "cell_type": "code",
   "execution_count": 2,
   "metadata": {
    "collapsed": false,
    "scrolled": true,
    "slideshow": {
     "slide_type": "fragment"
    }
   },
   "outputs": [
    {
     "data": {
      "text/html": [
       "\n",
       "        <iframe\n",
       "            width=\"100%\"\n",
       "            height=\"400\"\n",
       "            src=\"figure/graph-9870db6d-b96d-4384-a346-895f41a6be89.html\"\n",
       "            frameborder=\"0\"\n",
       "            allowfullscreen\n",
       "        ></iframe>\n",
       "        "
      ],
      "text/plain": [
       "<IPython.lib.display.IFrame at 0x433d5f0>"
      ]
     },
     "execution_count": 2,
     "metadata": {},
     "output_type": "execute_result"
    }
   ],
   "source": [
    "from py2neo import Node\n",
    "from scripts.vis import draw\n",
    "\n",
    "# Neo4j nodes are defined by labels and properties\n",
    "class_ = Node(\n",
    "    'metamodel',   # label\n",
    "    'element',     # label\n",
    "    name='Class',  # property\n",
    "    abstract=True  # property\n",
    ")\n",
    "\n",
    "# This saves the node to the graph database\n",
    "graph.create(class_)\n",
    "\n",
    "interface = Node('metamodel', 'element', name='Interface')\n",
    "graph.create(interface)\n",
    "\n",
    "# This function draws all of the graph's nodes and relationships in a bouncy vis.js visualization - drag the nodes around!\n",
    "draw(graph)"
   ]
  },
  {
   "cell_type": "markdown",
   "metadata": {
    "slideshow": {
     "slide_type": "slide"
    }
   },
   "source": [
    "## Metamodel Connections\n",
    "\n",
    "The metamodel also contains connections between its elements, such as \"a Class composes a Class\", \"a Class implements an Interface\", and \"a Class is associated with a Class\".\n",
    "\n",
    "Let's create these connections."
   ]
  },
  {
   "cell_type": "code",
   "execution_count": 3,
   "metadata": {
    "collapsed": false,
    "scrolled": true,
    "slideshow": {
     "slide_type": "fragment"
    }
   },
   "outputs": [
    {
     "data": {
      "text/html": [
       "\n",
       "        <iframe\n",
       "            width=\"100%\"\n",
       "            height=\"400\"\n",
       "            src=\"figure/graph-4f4aec47-5335-4d0e-9fca-f987a98b3380.html\"\n",
       "            frameborder=\"0\"\n",
       "            allowfullscreen\n",
       "        ></iframe>\n",
       "        "
      ],
      "text/plain": [
       "<IPython.lib.display.IFrame at 0x434f730>"
      ]
     },
     "execution_count": 3,
     "metadata": {},
     "output_type": "execute_result"
    }
   ],
   "source": [
    "composes = Node('metamodel', 'connection', name='Composes')\n",
    "graph.create(composes)\n",
    "\n",
    "implements = Node('metamodel', 'connection', name='Implements')\n",
    "graph.create(implements)\n",
    "\n",
    "is_associated_with = Node('metamodel', 'connection', name='Is Associated With')\n",
    "graph.create(is_associated_with)\n",
    "\n",
    "draw(graph)"
   ]
  },
  {
   "cell_type": "markdown",
   "metadata": {
    "slideshow": {
     "slide_type": "subslide"
    }
   },
   "source": [
    "Now that we have the elements and connections, we define which elements are the sources and targets of which connections."
   ]
  },
  {
   "cell_type": "code",
   "execution_count": 4,
   "metadata": {
    "collapsed": false,
    "slideshow": {
     "slide_type": "fragment"
    }
   },
   "outputs": [
    {
     "data": {
      "text/html": [
       "\n",
       "        <iframe\n",
       "            width=\"100%\"\n",
       "            height=\"400\"\n",
       "            src=\"figure/graph-4edcf3d2-80b3-4d45-ab41-c12c3f31ca34.html\"\n",
       "            frameborder=\"0\"\n",
       "            allowfullscreen\n",
       "        ></iframe>\n",
       "        "
      ],
      "text/plain": [
       "<IPython.lib.display.IFrame at 0x4393230>"
      ]
     },
     "execution_count": 4,
     "metadata": {},
     "output_type": "execute_result"
    }
   ],
   "source": [
    "from py2neo import Relationship\n",
    "\n",
    "# Neo4j relationships are mostly defined by a string label, as relationships do not inherit or relate to anything else.\n",
    "IS_THE_SOURCE_OF = 'IS_THE_SOURCE_OF'\n",
    "IS_THE_TARGET_OF = 'IS_THE_TARGET_OF'\n",
    "\n",
    "graph.create(Relationship(class_, IS_THE_SOURCE_OF, composes))\n",
    "graph.create(Relationship(class_, IS_THE_TARGET_OF, composes))\n",
    "\n",
    "graph.create(Relationship(class_,    IS_THE_SOURCE_OF, implements))\n",
    "graph.create(Relationship(interface, IS_THE_TARGET_OF, implements))\n",
    "\n",
    "graph.create(Relationship(class_, IS_THE_SOURCE_OF, is_associated_with))\n",
    "graph.create(Relationship(class_, IS_THE_TARGET_OF, is_associated_with))\n",
    "\n",
    "# Unfortunately, if source & target are the same, vis.js draws the \"IS_THE_SOURCE_OF\" on top of the \"IS_THE_TARGET_OF\".\n",
    "draw(graph)"
   ]
  },
  {
   "cell_type": "markdown",
   "metadata": {
    "slideshow": {
     "slide_type": "slide"
    }
   },
   "source": [
    "### Voila! A fully-queryable metamodel!\n",
    "\n",
    "***Queryable?***\n",
    "\n",
    "So far the only visualization we've seen has been the bouncy vis.js networks - let's ask Neo4j some questions.\n",
    "\n",
    "Neo4j queries are performed with the [Cypher Query Language](http://neo4j.com/docs/stable/cypher-query-lang.html).\n",
    "\n",
    "Much of a Cypher query looks like you're drawing a graph between `(nodes) -[relationships]-> (and other nodes)`, with a few `WHERE` and `AS` keywords thrown in.\n",
    "\n",
    "Both nodes and relationships can have labels and properties, so we add those labels and properties to the \"drawings\" in our queries, in order to specify which nodes and relationships we're looking for."
   ]
  },
  {
   "cell_type": "code",
   "execution_count": 5,
   "metadata": {
    "collapsed": false,
    "scrolled": false,
    "slideshow": {
     "slide_type": "slide"
    }
   },
   "outputs": [
    {
     "data": {
      "text/plain": [
       "   | nodes.name        \n",
       "---+--------------------\n",
       " 1 | Class             \n",
       " 2 | Interface         \n",
       " 3 | Composes          \n",
       " 4 | Implements        \n",
       " 5 | Is Associated With"
      ]
     },
     "execution_count": 5,
     "metadata": {},
     "output_type": "execute_result"
    }
   ],
   "source": [
    "# Refer to a node: (variable_name)\n",
    "graph.cypher.execute(\"MATCH (nodes) RETURN nodes.name\")"
   ]
  },
  {
   "cell_type": "code",
   "execution_count": 6,
   "metadata": {
    "collapsed": false,
    "scrolled": false,
    "slideshow": {
     "slide_type": "slide"
    }
   },
   "outputs": [
    {
     "data": {
      "text/plain": [
       "   | elements.name\n",
       "---+---------------\n",
       " 1 | Class        \n",
       " 2 | Interface    "
      ]
     },
     "execution_count": 6,
     "metadata": {},
     "output_type": "execute_result"
    }
   ],
   "source": [
    "# Specify a node label: (variable_name:label)\n",
    "graph.cypher.execute(\"MATCH (elements:element) RETURN elements.name\")"
   ]
  },
  {
   "cell_type": "code",
   "execution_count": 7,
   "metadata": {
    "collapsed": false,
    "scrolled": false,
    "slideshow": {
     "slide_type": "slide"
    }
   },
   "outputs": [
    {
     "data": {
      "text/plain": [
       "   | class.abstract\n",
       "---+----------------\n",
       " 1 |           True"
      ]
     },
     "execution_count": 7,
     "metadata": {},
     "output_type": "execute_result"
    }
   ],
   "source": [
    "# Specify a node property: (variable_name:label {property:value})\n",
    "graph.cypher.execute(\"MATCH (class {name:'Class'}) RETURN class.abstract\")"
   ]
  },
  {
   "cell_type": "code",
   "execution_count": 8,
   "metadata": {
    "collapsed": false,
    "scrolled": false,
    "slideshow": {
     "slide_type": "slide"
    }
   },
   "outputs": [
    {
     "data": {
      "text/plain": [
       "   | Connections        | Sources | Targets  \n",
       "---+--------------------+---------+-----------\n",
       " 1 | Is Associated With | Class   | Class    \n",
       " 2 | Composes           | Class   | Class    \n",
       " 3 | Implements         | Class   | Interface"
      ]
     },
     "execution_count": 8,
     "metadata": {},
     "output_type": "execute_result"
    }
   ],
   "source": [
    "# Specify a relationship type: -[variable_name:type]->\n",
    "graph.cypher.execute(\"\"\"\n",
    "MATCH (sources) -[:IS_THE_SOURCE_OF]-> (connections) <-[:IS_THE_TARGET_OF]- (targets)\n",
    "RETURN connections.name as Connections, sources.name as Sources, targets.name as Targets\n",
    "\"\"\")"
   ]
  },
  {
   "cell_type": "markdown",
   "metadata": {
    "slideshow": {
     "slide_type": "slide"
    }
   },
   "source": [
    "### What about generalization and specialization?\n",
    "\n",
    "*Good question! I'm still struggling with this a bit, but here's my current thinking:*\n",
    "\n",
    "Specialization is better represented by a relationship than a node.\n",
    "\n",
    "Let's say element A specializes element B and specialization is represented by a connection node. To connect A to B, we must create a new specialization node \"A Specializes B\" that specializes the base \"Specializes\" node. To connect \"A Specializes B\" to \"Specializes\", we must create a new specialization node... etc.\n",
    "\n",
    "Now, whether \"specialization as a relationship\" reveals a flaw in this graph database's design or a useful embedding of a common metamodel pattern into the fabric of the graph database is for you to decide after you see specialization in action when we define our model! Let's continue."
   ]
  },
  {
   "cell_type": "markdown",
   "metadata": {
    "slideshow": {
     "slide_type": "slide"
    }
   },
   "source": [
    "## Model Elements\n",
    "\n",
    "Let's define our project model - in order to find Jack a kidney donor, we'll need to model the following:\n",
    "\n",
    "* humans\n",
    "* kidneys\n",
    "* blood types\n",
    "* friendship\n",
    "* dogs\n",
    "* octopuses\n",
    "\n",
    "*Obviously we need to model dogs and octopuses in order to be thorough about this kidney search.*\n",
    "\n",
    "Let's figure out what metamodel elements we can specialize in our model."
   ]
  },
  {
   "cell_type": "code",
   "execution_count": 9,
   "metadata": {
    "collapsed": false,
    "scrolled": false,
    "slideshow": {
     "slide_type": "slide"
    }
   },
   "outputs": [
    {
     "data": {
      "text/plain": [
       "   | Elements \n",
       "---+-----------\n",
       " 1 | Class    \n",
       " 2 | Interface"
      ]
     },
     "execution_count": 9,
     "metadata": {},
     "output_type": "execute_result"
    }
   ],
   "source": [
    "graph.cypher.execute(\"MATCH (elements:element) RETURN elements.name as Elements\")"
   ]
  },
  {
   "cell_type": "markdown",
   "metadata": {
    "slideshow": {
     "slide_type": "slide"
    }
   },
   "source": [
    "Lets make an Animal Class and a Vertebrate Interface!\n",
    "\n",
    "*Note: The only requirement for being a vertebrate is an internal skeleton... conveniently for us, vertebrates are also the only animals with kidneys!*\n",
    "\n",
    "What properties are already defined for Class and Interface?"
   ]
  },
  {
   "cell_type": "code",
   "execution_count": 10,
   "metadata": {
    "collapsed": false,
    "scrolled": false,
    "slideshow": {
     "slide_type": "slide"
    }
   },
   "outputs": [
    {
     "data": {
      "text/plain": [
       "   | Class Properties     | Interface Properties\n",
       "---+----------------------+----------------------\n",
       " 1 | ['name', 'abstract'] | ['name']            "
      ]
     },
     "execution_count": 10,
     "metadata": {},
     "output_type": "execute_result"
    }
   ],
   "source": [
    "graph.cypher.execute(\"\"\"\n",
    "MATCH (class {name:'Class'}), (interface {name:'Interface'})\n",
    "RETURN keys(class) as `Class Properties`, keys(interface) as `Interface Properties`\n",
    "\"\"\")"
   ]
  },
  {
   "cell_type": "markdown",
   "metadata": {
    "slideshow": {
     "slide_type": "slide"
    }
   },
   "source": [
    "Animals have a blood type, so we'll need to define this property as `None`, to be redefined by its specializations.\n",
    "\n",
    "*Note: I'm going to drop the \"abstract\" property from now on, because I'm not quite sure yet how I want that to work.*"
   ]
  },
  {
   "cell_type": "code",
   "execution_count": 11,
   "metadata": {
    "collapsed": false,
    "scrolled": true,
    "slideshow": {
     "slide_type": "fragment"
    }
   },
   "outputs": [
    {
     "data": {
      "text/html": [
       "\n",
       "        <iframe\n",
       "            width=\"100%\"\n",
       "            height=\"400\"\n",
       "            src=\"figure/graph-5d70cfba-62d8-42d1-b4c2-143125622c03.html\"\n",
       "            frameborder=\"0\"\n",
       "            allowfullscreen\n",
       "        ></iframe>\n",
       "        "
      ],
      "text/plain": [
       "<IPython.lib.display.IFrame at 0x43952b0>"
      ]
     },
     "execution_count": 11,
     "metadata": {},
     "output_type": "execute_result"
    }
   ],
   "source": [
    "SPECIALIZES = 'SPECIALIZES'\n",
    "\n",
    "animal = Node('model', 'element', name='Animal', blood_type=None)\n",
    "\n",
    "# Creating a relationship with an un-created node automatically creates that node\n",
    "graph.create(Relationship(animal, SPECIALIZES, class_))\n",
    "\n",
    "vertebrate = Node('model', 'element', name='Vertebrate')\n",
    "graph.create(Relationship(vertebrate, SPECIALIZES, interface))\n",
    "\n",
    "draw(graph, labels=['model'])"
   ]
  },
  {
   "cell_type": "code",
   "execution_count": 12,
   "metadata": {
    "collapsed": false,
    "scrolled": false,
    "slideshow": {
     "slide_type": "slide"
    }
   },
   "outputs": [
    {
     "data": {
      "text/plain": [
       "   | Elements  \n",
       "---+------------\n",
       " 1 | Class     \n",
       " 2 | Interface \n",
       " 3 | Animal    \n",
       " 4 | Vertebrate"
      ]
     },
     "execution_count": 12,
     "metadata": {},
     "output_type": "execute_result"
    }
   ],
   "source": [
    "graph.cypher.execute(\"MATCH (elements:element) RETURN elements.name as Elements\")"
   ]
  },
  {
   "cell_type": "code",
   "execution_count": 13,
   "metadata": {
    "collapsed": false,
    "slideshow": {
     "slide_type": "fragment"
    }
   },
   "outputs": [
    {
     "data": {
      "text/html": [
       "\n",
       "        <iframe\n",
       "            width=\"100%\"\n",
       "            height=\"400\"\n",
       "            src=\"figure/graph-ef83eaeb-db90-49cf-b49e-e55deaa7aac0.html\"\n",
       "            frameborder=\"0\"\n",
       "            allowfullscreen\n",
       "        ></iframe>\n",
       "        "
      ],
      "text/plain": [
       "<IPython.lib.display.IFrame at 0x4411850>"
      ]
     },
     "execution_count": 13,
     "metadata": {},
     "output_type": "execute_result"
    }
   ],
   "source": [
    "human = Node('model', 'element', name='Human', blood_type=None)\n",
    "graph.create(Relationship(human, SPECIALIZES, animal))\n",
    "\n",
    "dog = Node('model', 'element', name='Dog', blood_type=None)\n",
    "graph.create(Relationship(dog, SPECIALIZES, animal))\n",
    "\n",
    "octopus = Node('model', 'element', name='Octopus', blood_type='Invertebrate Blood')\n",
    "graph.create(Relationship(octopus, SPECIALIZES, animal))\n",
    "\n",
    "organ = Node('model', 'element', name='Organ')\n",
    "graph.create(Relationship(organ, SPECIALIZES, class_))\n",
    "\n",
    "kidney = Node('model', 'element', name='Kidney')\n",
    "graph.create(Relationship(kidney, SPECIALIZES, organ))\n",
    "\n",
    "draw(graph)"
   ]
  },
  {
   "cell_type": "markdown",
   "metadata": {
    "slideshow": {
     "slide_type": "slide"
    }
   },
   "source": [
    "## Model Connections\n",
    "\n",
    "Let's specialize the metamodel connections. What connections can we specialize, and between what elements?"
   ]
  },
  {
   "cell_type": "code",
   "execution_count": 14,
   "metadata": {
    "collapsed": false,
    "scrolled": false,
    "slideshow": {
     "slide_type": "slide"
    }
   },
   "outputs": [
    {
     "data": {
      "text/plain": [
       "    | Connection         | Potential Sources\n",
       "----+--------------------+-------------------\n",
       "  1 | Composes           | Animal           \n",
       "  2 | Composes           | Human            \n",
       "  3 | Composes           | Dog              \n",
       "  4 | Composes           | Octopus          \n",
       "  5 | Composes           | Organ            \n",
       "  6 | Composes           | Kidney           \n",
       "  7 | Implements         | Animal           \n",
       "  8 | Implements         | Human            \n",
       "  9 | Implements         | Dog              \n",
       " 10 | Implements         | Octopus          \n",
       " 11 | Implements         | Organ            \n",
       " 12 | Implements         | Kidney           \n",
       " 13 | Is Associated With | Animal           \n",
       " 14 | Is Associated With | Human            \n",
       " 15 | Is Associated With | Dog              \n",
       " 16 | Is Associated With | Octopus          \n",
       " 17 | Is Associated With | Organ            \n",
       " 18 | Is Associated With | Kidney           "
      ]
     },
     "execution_count": 14,
     "metadata": {},
     "output_type": "execute_result"
    }
   ],
   "source": [
    "graph.cypher.execute(\"\"\"\n",
    "MATCH (potential_sources) -[:SPECIALIZES*]-> () -[:IS_THE_SOURCE_OF]-> (connections)\n",
    "WHERE potential_sources:model AND connections:metamodel\n",
    "RETURN connections.name as Connection, potential_sources.name as `Potential Sources`\n",
    "\"\"\")"
   ]
  },
  {
   "cell_type": "code",
   "execution_count": 15,
   "metadata": {
    "collapsed": false,
    "scrolled": false,
    "slideshow": {
     "slide_type": "slide"
    }
   },
   "outputs": [
    {
     "data": {
      "text/plain": [
       "    | Connection         | Potential Targets\n",
       "----+--------------------+-------------------\n",
       "  1 | Composes           | Animal           \n",
       "  2 | Composes           | Human            \n",
       "  3 | Composes           | Dog              \n",
       "  4 | Composes           | Octopus          \n",
       "  5 | Composes           | Organ            \n",
       "  6 | Composes           | Kidney           \n",
       "  7 | Implements         | Vertebrate       \n",
       "  8 | Is Associated With | Animal           \n",
       "  9 | Is Associated With | Human            \n",
       " 10 | Is Associated With | Dog              \n",
       " 11 | Is Associated With | Octopus          \n",
       " 12 | Is Associated With | Organ            \n",
       " 13 | Is Associated With | Kidney           "
      ]
     },
     "execution_count": 15,
     "metadata": {},
     "output_type": "execute_result"
    }
   ],
   "source": [
    "graph.cypher.execute(\"\"\"\n",
    "MATCH (potential_targets) -[:SPECIALIZES*]-> () -[:IS_THE_TARGET_OF]-> (connections)\n",
    "WHERE potential_targets:model AND connections:metamodel\n",
    "RETURN connections.name as Connection, potential_targets.name as `Potential Targets`\n",
    "\"\"\")"
   ]
  },
  {
   "cell_type": "code",
   "execution_count": 16,
   "metadata": {
    "collapsed": false,
    "scrolled": false,
    "slideshow": {
     "slide_type": "fragment"
    }
   },
   "outputs": [
    {
     "data": {
      "text/html": [
       "\n",
       "        <iframe\n",
       "            width=\"100%\"\n",
       "            height=\"400\"\n",
       "            src=\"figure/graph-d7de54da-46a7-4cbe-ac0c-b0acde7514d4.html\"\n",
       "            frameborder=\"0\"\n",
       "            allowfullscreen\n",
       "        ></iframe>\n",
       "        "
      ],
      "text/plain": [
       "<IPython.lib.display.IFrame at 0x4418410>"
      ]
     },
     "execution_count": 16,
     "metadata": {},
     "output_type": "execute_result"
    }
   ],
   "source": [
    "human__implements__vertebrate = Node('model', 'connection', name='Human Implements Vertebrate')\n",
    "graph.create(Relationship(human__implements__vertebrate, SPECIALIZES, implements))\n",
    "graph.create(Relationship(human,      IS_THE_SOURCE_OF, human__implements__vertebrate))\n",
    "graph.create(Relationship(vertebrate, IS_THE_TARGET_OF, human__implements__vertebrate))\n",
    "\n",
    "dog__implements__vertebrate = Node('model', 'connection', name='Dog Implements Vertebrate')\n",
    "graph.create(Relationship(dog__implements__vertebrate, SPECIALIZES, implements))\n",
    "graph.create(Relationship(dog,        IS_THE_SOURCE_OF, dog__implements__vertebrate))\n",
    "graph.create(Relationship(vertebrate, IS_THE_TARGET_OF, dog__implements__vertebrate))\n",
    "\n",
    "organ__composes__animal = Node('model', 'connection', name='Organ Is Inside')\n",
    "graph.create(Relationship(organ__composes__animal, SPECIALIZES, composes))\n",
    "graph.create(Relationship(organ,  IS_THE_SOURCE_OF, organ__composes__animal))\n",
    "graph.create(Relationship(animal, IS_THE_TARGET_OF, organ__composes__animal))\n",
    "\n",
    "kidney_is_inside = Node('model', 'connection', name='Kidney Is Inside')\n",
    "graph.create(Relationship(kidney_is_inside, SPECIALIZES, composes))\n",
    "graph.create(Relationship(kidney,     IS_THE_SOURCE_OF, kidney_is_inside))\n",
    "graph.create(Relationship(vertebrate, IS_THE_TARGET_OF, kidney_is_inside))\n",
    "\n",
    "is_friends_with = Node('model', 'connection', name='Is Friends With')\n",
    "graph.create(Relationship(is_friends_with, SPECIALIZES, is_associated_with))\n",
    "graph.create(Relationship(animal, IS_THE_SOURCE_OF, is_friends_with))\n",
    "graph.create(Relationship(animal, IS_THE_TARGET_OF, is_friends_with))\n",
    "\n",
    "draw(graph)"
   ]
  },
  {
   "cell_type": "markdown",
   "metadata": {
    "slideshow": {
     "slide_type": "slide"
    }
   },
   "source": [
    "Zoom in/out (by scrolling), pan (by dragging the white background), and drag nodes around to get a better view of all these graphs."
   ]
  },
  {
   "cell_type": "markdown",
   "metadata": {
    "slideshow": {
     "slide_type": "slide"
    }
   },
   "source": [
    "## Instance Elements\n",
    "\n",
    "It's finally time for us to input data about Jack, his friends, and their kidneys! What elements can we create?"
   ]
  },
  {
   "cell_type": "code",
   "execution_count": 17,
   "metadata": {
    "collapsed": false,
    "scrolled": false,
    "slideshow": {
     "slide_type": "slide"
    }
   },
   "outputs": [
    {
     "data": {
      "text/plain": [
       "   | Elements  \n",
       "---+------------\n",
       " 1 | Animal    \n",
       " 2 | Vertebrate\n",
       " 3 | Human     \n",
       " 4 | Dog       \n",
       " 5 | Octopus   \n",
       " 6 | Organ     \n",
       " 7 | Kidney    "
      ]
     },
     "execution_count": 17,
     "metadata": {},
     "output_type": "execute_result"
    }
   ],
   "source": [
    "graph.cypher.execute(\"MATCH (elements:element) WHERE elements:model RETURN elements.name as Elements\")"
   ]
  },
  {
   "cell_type": "code",
   "execution_count": 18,
   "metadata": {
    "collapsed": false,
    "scrolled": false,
    "slideshow": {
     "slide_type": "fragment"
    }
   },
   "outputs": [
    {
     "data": {
      "text/html": [
       "\n",
       "        <iframe\n",
       "            width=\"100%\"\n",
       "            height=\"400\"\n",
       "            src=\"figure/graph-930ca118-1d07-478a-825a-864ebb74a07a.html\"\n",
       "            frameborder=\"0\"\n",
       "            allowfullscreen\n",
       "        ></iframe>\n",
       "        "
      ],
      "text/plain": [
       "<IPython.lib.display.IFrame at 0x43abcb0>"
      ]
     },
     "execution_count": 18,
     "metadata": {},
     "output_type": "execute_result"
    }
   ],
   "source": [
    "jack = Node('instance', 'element', name='Jack', blood_type='A+')\n",
    "graph.create(Relationship(jack, SPECIALIZES, human))\n",
    "\n",
    "jill = Node('instance', 'element', name='Jill', blood_type='B-')\n",
    "graph.create(Relationship(jill, SPECIALIZES, human))\n",
    "\n",
    "john = Node('instance', 'element', name='John')\n",
    "graph.create(Relationship(john, SPECIALIZES, human))\n",
    "\n",
    "jane = Node('instance', 'element', name='Jane', blood_type='A+')\n",
    "graph.create(Relationship(jane, SPECIALIZES, human))\n",
    "\n",
    "jasper = Node('instance', 'element', name='Jasper', blood_type='DEA 1.1')\n",
    "graph.create(Relationship(jasper, SPECIALIZES, dog))\n",
    "\n",
    "jacoby = Node('instance', 'element', name='Jacoby')\n",
    "graph.create(Relationship(jacoby, SPECIALIZES, octopus))\n",
    "\n",
    "jack_left_kidney = Node('instance', 'element', name=\"Jack's Left Kidney\")\n",
    "graph.create(Relationship(jack_left_kidney, SPECIALIZES, kidney))\n",
    "\n",
    "jill_right_kidney = Node('instance', 'element', name=\"Jill's Right Kidney\")\n",
    "graph.create(Relationship(jill_right_kidney, SPECIALIZES, kidney))\n",
    "\n",
    "john_left_kidney = Node('instance', 'element', name=\"John's Left Kidney\")\n",
    "graph.create(Relationship(john_left_kidney, SPECIALIZES, kidney))\n",
    "\n",
    "john_right_kidney = Node('instance', 'element', name=\"John's Right Kidney\")\n",
    "graph.create(Relationship(john_right_kidney, SPECIALIZES, kidney))\n",
    "\n",
    "jane_left_kidney = Node('instance', 'element', name=\"Jane's Left Kidney\")\n",
    "graph.create(Relationship(jane_left_kidney, SPECIALIZES, kidney))\n",
    "\n",
    "jane_right_kidney = Node('instance', 'element', name=\"Jane's Right Kidney\")\n",
    "graph.create(Relationship(jane_right_kidney, SPECIALIZES, kidney))\n",
    "\n",
    "jasper_left_kidney = Node('instance', 'element', name=\"Jasper's Left Kidney\")\n",
    "graph.create(Relationship(jasper_left_kidney, SPECIALIZES, kidney))\n",
    "\n",
    "jasper_right_kidney = Node('instance', 'element', name=\"Jasper's Right Kidney\")\n",
    "graph.create(Relationship(jasper_right_kidney, SPECIALIZES, kidney))\n",
    "\n",
    "draw(graph)"
   ]
  },
  {
   "cell_type": "markdown",
   "metadata": {
    "slideshow": {
     "slide_type": "slide"
    }
   },
   "source": [
    "## Instance Connections\n",
    "\n",
    "What model connections can we specialize, and between what elements?"
   ]
  },
  {
   "cell_type": "code",
   "execution_count": 19,
   "metadata": {
    "collapsed": false,
    "scrolled": true,
    "slideshow": {
     "slide_type": "slide"
    }
   },
   "outputs": [
    {
     "data": {
      "text/plain": [
       "    | Connection                  | Potential Sources    \n",
       "----+-----------------------------+-----------------------\n",
       "  1 | Human Implements Vertebrate | Jack                 \n",
       "  2 | Human Implements Vertebrate | Jill                 \n",
       "  3 | Human Implements Vertebrate | John                 \n",
       "  4 | Human Implements Vertebrate | Jane                 \n",
       "  5 | Dog Implements Vertebrate   | Jasper               \n",
       "  6 | Organ Is Inside             | Jack's Left Kidney   \n",
       "  7 | Organ Is Inside             | Jill's Right Kidney  \n",
       "  8 | Organ Is Inside             | John's Left Kidney   \n",
       "  9 | Organ Is Inside             | John's Right Kidney  \n",
       " 10 | Organ Is Inside             | Jane's Left Kidney   \n",
       " 11 | Organ Is Inside             | Jane's Right Kidney  \n",
       " 12 | Organ Is Inside             | Jasper's Left Kidney \n",
       " 13 | Organ Is Inside             | Jasper's Right Kidney\n",
       " 14 | Kidney Is Inside            | Jack's Left Kidney   \n",
       " 15 | Kidney Is Inside            | Jill's Right Kidney  \n",
       " 16 | Kidney Is Inside            | John's Left Kidney   \n",
       " 17 | Kidney Is Inside            | John's Right Kidney  \n",
       " 18 | Kidney Is Inside            | Jane's Left Kidney   \n",
       " 19 | Kidney Is Inside            | Jane's Right Kidney  \n",
       " 20 | Kidney Is Inside            | Jasper's Left Kidney \n",
       " 21 | Kidney Is Inside            | Jasper's Right Kidney\n",
       " 22 | Is Friends With             | Jack                 \n",
       " 23 | Is Friends With             | Jill                 \n",
       " 24 | Is Friends With             | John                 \n",
       " 25 | Is Friends With             | Jane                 \n",
       " 26 | Is Friends With             | Jasper               \n",
       " 27 | Is Friends With             | Jacoby               "
      ]
     },
     "execution_count": 19,
     "metadata": {},
     "output_type": "execute_result"
    }
   ],
   "source": [
    "graph.cypher.execute(\"\"\"\n",
    "MATCH (potential_sources) -[:SPECIALIZES*]-> () -[:IS_THE_SOURCE_OF]-> (connections)\n",
    "WHERE potential_sources:instance AND connections:model\n",
    "RETURN connections.name as Connection, potential_sources.name as `Potential Sources`\n",
    "\"\"\")"
   ]
  },
  {
   "cell_type": "code",
   "execution_count": 20,
   "metadata": {
    "collapsed": false,
    "scrolled": false,
    "slideshow": {
     "slide_type": "slide"
    }
   },
   "outputs": [
    {
     "data": {
      "text/plain": [
       "    | Connection      | Potential Targets\n",
       "----+-----------------+-------------------\n",
       "  1 | Organ Is Inside | Jack             \n",
       "  2 | Organ Is Inside | Jill             \n",
       "  3 | Organ Is Inside | John             \n",
       "  4 | Organ Is Inside | Jane             \n",
       "  5 | Organ Is Inside | Jasper           \n",
       "  6 | Organ Is Inside | Jacoby           \n",
       "  7 | Is Friends With | Jack             \n",
       "  8 | Is Friends With | Jill             \n",
       "  9 | Is Friends With | John             \n",
       " 10 | Is Friends With | Jane             \n",
       " 11 | Is Friends With | Jasper           \n",
       " 12 | Is Friends With | Jacoby           "
      ]
     },
     "execution_count": 20,
     "metadata": {},
     "output_type": "execute_result"
    }
   ],
   "source": [
    "graph.cypher.execute(\"\"\"\n",
    "MATCH (potential_targets) -[:SPECIALIZES*]-> () -[:IS_THE_TARGET_OF]-> (connections)\n",
    "WHERE potential_targets:instance AND connections:model\n",
    "RETURN connections.name as Connection, potential_targets.name as `Potential Targets`\n",
    "\"\"\")"
   ]
  },
  {
   "cell_type": "code",
   "execution_count": 21,
   "metadata": {
    "collapsed": false,
    "slideshow": {
     "slide_type": "fragment"
    }
   },
   "outputs": [
    {
     "data": {
      "text/html": [
       "\n",
       "        <iframe\n",
       "            width=\"100%\"\n",
       "            height=\"400\"\n",
       "            src=\"figure/graph-b488ea2b-c3b4-496f-8fd4-6303173b9e82.html\"\n",
       "            frameborder=\"0\"\n",
       "            allowfullscreen\n",
       "        ></iframe>\n",
       "        "
      ],
      "text/plain": [
       "<IPython.lib.display.IFrame at 0x43c1e70>"
      ]
     },
     "execution_count": 21,
     "metadata": {},
     "output_type": "execute_result"
    }
   ],
   "source": [
    "jack_left_kidney__kidney_is_inside__jack = Node('instance', 'connection', name=\"Jack's Left Kidney Is Inside Jack\")\n",
    "graph.create(Relationship(jack_left_kidney__kidney_is_inside__jack, SPECIALIZES, kidney_is_inside))\n",
    "graph.create(Relationship(jack_left_kidney, IS_THE_SOURCE_OF, jack_left_kidney__kidney_is_inside__jack))\n",
    "graph.create(Relationship(jack,             IS_THE_TARGET_OF, jack_left_kidney__kidney_is_inside__jack))\n",
    "\n",
    "jill_right_kidney__kidney_is_inside__jill = Node('instance', 'connection', name=\"Jill's Right Kidney Is Inside Jill\")\n",
    "graph.create(Relationship(jill_right_kidney__kidney_is_inside__jill, SPECIALIZES, kidney_is_inside))\n",
    "graph.create(Relationship(jill_right_kidney, IS_THE_SOURCE_OF, jill_right_kidney__kidney_is_inside__jill))\n",
    "graph.create(Relationship(jill,              IS_THE_TARGET_OF, jill_right_kidney__kidney_is_inside__jill))\n",
    "\n",
    "john_left_kidney__kidney_is_inside__john = Node('instance', 'connection', name=\"John's Left Kidney Is Inside John\")\n",
    "graph.create(Relationship(john_left_kidney__kidney_is_inside__john, SPECIALIZES, kidney_is_inside))\n",
    "graph.create(Relationship(john_left_kidney, IS_THE_SOURCE_OF, john_left_kidney__kidney_is_inside__john))\n",
    "graph.create(Relationship(john,             IS_THE_TARGET_OF, john_left_kidney__kidney_is_inside__john))\n",
    "\n",
    "john_right_kidney__kidney_is_inside__john = Node('instance', 'connection', name=\"John's Right Kidney Is Inside John\")\n",
    "graph.create(Relationship(john_right_kidney__kidney_is_inside__john, SPECIALIZES, kidney_is_inside))\n",
    "graph.create(Relationship(john_right_kidney, IS_THE_SOURCE_OF, john_right_kidney__kidney_is_inside__john))\n",
    "graph.create(Relationship(john,              IS_THE_TARGET_OF, john_right_kidney__kidney_is_inside__john))\n",
    "\n",
    "jane_left_kidney__kidney_is_inside__jane = Node('instance', 'connection', name=\"Jane's Left Kidney Is Inside Jane\")\n",
    "graph.create(Relationship(jane_left_kidney__kidney_is_inside__jane, SPECIALIZES, kidney_is_inside))\n",
    "graph.create(Relationship(jane_left_kidney, IS_THE_SOURCE_OF, jane_left_kidney__kidney_is_inside__jane))\n",
    "graph.create(Relationship(jane,             IS_THE_TARGET_OF, jane_left_kidney__kidney_is_inside__jane))\n",
    "\n",
    "jane_right_kidney__kidney_is_inside__jane = Node('instance', 'connection', name=\"Jane's Right Kidney Is Inside Jane\")\n",
    "graph.create(Relationship(jane_right_kidney__kidney_is_inside__jane, SPECIALIZES, kidney_is_inside))\n",
    "graph.create(Relationship(jane_right_kidney, IS_THE_SOURCE_OF, jane_right_kidney__kidney_is_inside__jane))\n",
    "graph.create(Relationship(jane,              IS_THE_TARGET_OF, jane_right_kidney__kidney_is_inside__jane))\n",
    "\n",
    "jasper_left_kidney__kidney_is_inside__jasper = Node('instance', 'connection', name=\"Jasper's Left Kidney Is Inside Jasper\")\n",
    "graph.create(Relationship(jasper_left_kidney__kidney_is_inside__jasper, SPECIALIZES, kidney_is_inside))\n",
    "graph.create(Relationship(jasper_left_kidney, IS_THE_SOURCE_OF, jasper_left_kidney__kidney_is_inside__jasper))\n",
    "graph.create(Relationship(jasper,             IS_THE_TARGET_OF, jasper_left_kidney__kidney_is_inside__jasper))\n",
    "\n",
    "jasper_right_kidney__kidney_is_inside__jasper = Node('instance', 'connection', name=\"Jasper's Left Kidney Is Inside Jasper\")\n",
    "graph.create(Relationship(jasper_right_kidney__kidney_is_inside__jasper, SPECIALIZES, kidney_is_inside))\n",
    "graph.create(Relationship(jasper_right_kidney, IS_THE_SOURCE_OF, jasper_right_kidney__kidney_is_inside__jasper))\n",
    "graph.create(Relationship(jasper,              IS_THE_TARGET_OF, jasper_right_kidney__kidney_is_inside__jasper))\n",
    "\n",
    "jack__is_friends_with__jill = Node('instance', 'connection', name='Jack Is Friends With Jill')\n",
    "graph.create(Relationship(jack__is_friends_with__jill, SPECIALIZES, is_friends_with))\n",
    "graph.create(Relationship(jack, IS_THE_SOURCE_OF, jack__is_friends_with__jill))\n",
    "graph.create(Relationship(jill, IS_THE_TARGET_OF, jack__is_friends_with__jill))\n",
    "\n",
    "jill__is_friends_with__john = Node('instance', 'connection', name='Jill Is Friends With John')\n",
    "graph.create(Relationship(jill__is_friends_with__john, SPECIALIZES, is_friends_with))\n",
    "graph.create(Relationship(jill, IS_THE_SOURCE_OF, jill__is_friends_with__john))\n",
    "graph.create(Relationship(john, IS_THE_TARGET_OF, jill__is_friends_with__john))\n",
    "\n",
    "john__is_friends_with__jane = Node('instance', 'connection', name='John Is Friends With Jane')\n",
    "graph.create(Relationship(john__is_friends_with__jane, SPECIALIZES, is_friends_with))\n",
    "graph.create(Relationship(john, IS_THE_SOURCE_OF, john__is_friends_with__jane))\n",
    "graph.create(Relationship(jane, IS_THE_TARGET_OF, john__is_friends_with__jane))\n",
    "\n",
    "jack__is_friends_with__jasper = Node('instance', 'connection', name='Jack Is Friends With Jasper')\n",
    "graph.create(Relationship(jack__is_friends_with__jasper, SPECIALIZES, is_friends_with))\n",
    "graph.create(Relationship(jack,   IS_THE_SOURCE_OF, jack__is_friends_with__jasper))\n",
    "graph.create(Relationship(jasper, IS_THE_TARGET_OF, jack__is_friends_with__jasper))\n",
    "\n",
    "jack__is_friends_with__jacoby = Node('instance', 'connection', name='Jack Is Friends With Jacoby')\n",
    "graph.create(Relationship(jack__is_friends_with__jacoby, SPECIALIZES, is_friends_with))\n",
    "graph.create(Relationship(jack,   IS_THE_SOURCE_OF, jack__is_friends_with__jacoby))\n",
    "graph.create(Relationship(jacoby, IS_THE_TARGET_OF, jack__is_friends_with__jacoby))\n",
    "\n",
    "\n",
    "draw(graph, relax_gray_relationships=True)"
   ]
  },
  {
   "cell_type": "markdown",
   "metadata": {
    "slideshow": {
     "slide_type": "slide"
    }
   },
   "source": [
    "### Voilalala! A fully-queryable metamodel/model/instance database\n",
    "\n",
    "Let's ask our database some questions to learn about Jack's situation:\n",
    "\n",
    "* What is Jack's blood type?\n",
    "* Who has Jack's blood type?\n",
    "* Who has a spare kidney?\n",
    "* Who doesn't have any kidneys?\n",
    "* Who is Jack friends with?\n",
    "* Who can Jack become friends with?\n",
    "* Whose blood type do we not know?"
   ]
  },
  {
   "cell_type": "code",
   "execution_count": 22,
   "metadata": {
    "collapsed": false,
    "scrolled": false,
    "slideshow": {
     "slide_type": "slide"
    }
   },
   "outputs": [
    {
     "data": {
      "text/plain": [
       "   | Jack's blood type\n",
       "---+-------------------\n",
       " 1 | A+               "
      ]
     },
     "execution_count": 22,
     "metadata": {},
     "output_type": "execute_result"
    }
   ],
   "source": [
    "graph.cypher.execute(\"MATCH (jack {name:'Jack'}) RETURN jack.blood_type as `Jack's blood type`\")"
   ]
  },
  {
   "cell_type": "code",
   "execution_count": 23,
   "metadata": {
    "collapsed": false,
    "scrolled": false,
    "slideshow": {
     "slide_type": "slide"
    }
   },
   "outputs": [
    {
     "data": {
      "text/plain": [
       "   | Others with Jack's blood type\n",
       "---+-------------------------------\n",
       " 1 | Jane                         "
      ]
     },
     "execution_count": 23,
     "metadata": {},
     "output_type": "execute_result"
    }
   ],
   "source": [
    "graph.cypher.execute(\"\"\"\n",
    "MATCH\n",
    "(jack {name:'Jack'}), (others_with_jack_blood_type)\n",
    "WHERE\n",
    "others_with_jack_blood_type.blood_type = jack.blood_type AND\n",
    "others_with_jack_blood_type.name <> jack.name\n",
    "RETURN\n",
    "others_with_jack_blood_type.name AS `Others with Jack's blood type`\n",
    "\"\"\")"
   ]
  },
  {
   "cell_type": "code",
   "execution_count": 24,
   "metadata": {
    "collapsed": false,
    "scrolled": false,
    "slideshow": {
     "slide_type": "slide"
    }
   },
   "outputs": [
    {
     "data": {
      "text/plain": [
       "   | Others with a kidney | Number of kidneys\n",
       "---+----------------------+-------------------\n",
       " 1 | Jane                 |                 2\n",
       " 2 | Jasper               |                 2\n",
       " 3 | John                 |                 2\n",
       " 4 | Jill                 |                 1"
      ]
     },
     "execution_count": 24,
     "metadata": {},
     "output_type": "execute_result"
    }
   ],
   "source": [
    "graph.cypher.execute(\"\"\"\n",
    "MATCH\n",
    "(others_with_a_kidney) -[:IS_THE_TARGET_OF]-> () -[:SPECIALIZES]-> ({name:'Kidney Is Inside'})\n",
    "WHERE\n",
    "others_with_a_kidney.name <> 'Jack'\n",
    "RETURN\n",
    "others_with_a_kidney.name AS `Others with a kidney`,\n",
    "count(*) AS `Number of kidneys` ORDER BY `Number of kidneys` DESC\n",
    "\"\"\")"
   ]
  },
  {
   "cell_type": "code",
   "execution_count": 25,
   "metadata": {
    "collapsed": false,
    "scrolled": false,
    "slideshow": {
     "slide_type": "slide"
    }
   },
   "outputs": [
    {
     "data": {
      "text/plain": [
       "   | Animals without kidneys\n",
       "---+-------------------------\n",
       " 1 | Jacoby                 "
      ]
     },
     "execution_count": 25,
     "metadata": {},
     "output_type": "execute_result"
    }
   ],
   "source": [
    "# Who's the cutest invertebrate? You are!\n",
    "graph.cypher.execute(\"\"\"\n",
    "MATCH\n",
    "(animals_without_kidneys) -[:SPECIALIZES]-> (animal_specialization) -[:SPECIALIZES]-> ({name:'Animal'})\n",
    "WHERE\n",
    "NOT (animal_specialization) -[:`IS_THE_SOURCE_OF`|`IS_THE_TARGET_OF`*3]- ({name:'Kidney Is Inside'})\n",
    "RETURN\n",
    "animals_without_kidneys.name AS `Animals without kidneys`\n",
    "\"\"\")"
   ]
  },
  {
   "cell_type": "code",
   "execution_count": 26,
   "metadata": {
    "collapsed": false,
    "scrolled": false,
    "slideshow": {
     "slide_type": "slide"
    }
   },
   "outputs": [
    {
     "data": {
      "text/plain": [
       "   | Jack's immediate friends\n",
       "---+--------------------------\n",
       " 1 | Jacoby                  \n",
       " 2 | Jasper                  \n",
       " 3 | Jill                    "
      ]
     },
     "execution_count": 26,
     "metadata": {},
     "output_type": "execute_result"
    }
   ],
   "source": [
    "graph.cypher.execute(\"\"\"\n",
    "MATCH\n",
    "({name:'Jack'}) -[:IS_THE_SOURCE_OF]-> (friendships) -[:SPECIALIZES]-> ({name:'Is Friends With'}),\n",
    "(friends)       -[:IS_THE_TARGET_OF]-> (friendships)\n",
    "RETURN\n",
    "friends.name as `Jack's immediate friends`\n",
    "\"\"\")"
   ]
  },
  {
   "cell_type": "code",
   "execution_count": 27,
   "metadata": {
    "collapsed": false,
    "scrolled": false,
    "slideshow": {
     "slide_type": "slide"
    }
   },
   "outputs": [
    {
     "data": {
      "text/plain": [
       "   | Friends of Jack's friends\n",
       "---+---------------------------\n",
       " 1 | John                     "
      ]
     },
     "execution_count": 27,
     "metadata": {},
     "output_type": "execute_result"
    }
   ],
   "source": [
    "graph.cypher.execute(\"\"\"\n",
    "MATCH\n",
    "({name:'Jack'}) -[:IS_THE_SOURCE_OF]-> (jack_friendships)         <-[:IS_THE_TARGET_OF]- (jack_friends),\n",
    "(jack_friends)  -[:IS_THE_SOURCE_OF]-> (jack_friends_friendships) <-[:IS_THE_TARGET_OF]- (jack_friends_friends),\n",
    "(jack_friendships) -[:SPECIALIZES]->   ({name:'Is Friends With'}) <-[:SPECIALIZES]- (jack_friends_friendships)\n",
    "RETURN\n",
    "DISTINCT jack_friends_friends.name as `Friends of Jack's friends`\n",
    "\"\"\")"
   ]
  },
  {
   "cell_type": "code",
   "execution_count": 28,
   "metadata": {
    "collapsed": false,
    "scrolled": false,
    "slideshow": {
     "slide_type": "slide"
    }
   },
   "outputs": [
    {
     "data": {
      "text/plain": [
       "   | Humans with an unknown blood type\n",
       "---+-----------------------------------\n",
       " 1 | John                             "
      ]
     },
     "execution_count": 28,
     "metadata": {},
     "output_type": "execute_result"
    }
   ],
   "source": [
    "graph.cypher.execute(\"\"\"\n",
    "MATCH\n",
    "(humans) -[:SPECIALIZES]-> ({name:\"Human\"})\n",
    "WHERE\n",
    "humans.blood_type IS NULL\n",
    "RETURN\n",
    "humans.name AS `Humans with an unknown blood type`\n",
    "\"\"\")"
   ]
  },
  {
   "cell_type": "markdown",
   "metadata": {
    "slideshow": {
     "slide_type": "slide"
    }
   },
   "source": [
    "##### So what?\n",
    "\n",
    "We have identified a recommendation (\"Jane is a viable kidney donor\") and an unknown (\"What is John's blood type?\").\n",
    "\n",
    "##### Why this approach?\n",
    "\n",
    "This graph database implementation contains all of the information required to support a modeling user interface.\n",
    "\n",
    "*From this point on, I'll use the word \"user\" to mean modelers, subject matter experts, and project managers, but not software developers.*\n",
    "\n",
    "User views of the project model/data should never look like the crowded visualizations above. Users should only interact with diagrams that focus the visualizations and constrain their actions to legal ones.\n",
    "\n",
    "User actions (creating/editing/deleting an element or connection) should be limited by:\n",
    "\n",
    "* the diagram's subset of nodes\n",
    "* the diagram's subset of relationships\n",
    "* the existing project data in the database\n",
    "* the model's definitions of what elements/connections can be made\n",
    "* the metamodel's definitions of what elements/connections can be made\n",
    "\n",
    "The metamodel/model/instance graph implementation described on this page provides a technologically-minimalist modeling tool with the logical complexity to express any project's model/data and constrain any diagramming interface's user actions.\n",
    "\n",
    "I look forward to implementing such a diagramming interface and asking the database questions like:\n",
    "\n",
    "* What are all undefined properties for elements in this diagram?\n",
    "* For the currently-selected element, what are all elements to which it can connect?\n",
    "* What are all the possible \"Connect X to Y with Z\" buttons for the toolbar of this diagram?\n",
    "\n",
    "**Thanks for reading! I'd love to hear your thoughts/questions about anything on this page.**\n",
    "\n",
    "\\- Jan"
   ]
  }
 ],
 "metadata": {
  "celltoolbar": "Slideshow",
  "kernelspec": {
   "display_name": "Python 3",
   "language": "python",
   "name": "python3"
  },
  "language_info": {
   "codemirror_mode": {
    "name": "ipython",
    "version": 3
   },
   "file_extension": ".py",
   "mimetype": "text/x-python",
   "name": "python",
   "nbconvert_exporter": "python",
   "pygments_lexer": "ipython3",
   "version": "3.4.3"
  }
 },
 "nbformat": 4,
 "nbformat_minor": 0
}
