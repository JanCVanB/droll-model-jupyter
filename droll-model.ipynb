{
 "cells": [
  {
   "cell_type": "markdown",
   "metadata": {
    "slideshow": {
     "slide_type": "slide"
    }
   },
   "source": [
    "# The 10-Minute Modeling Tool\n",
    "\n",
    "Let's build a modeling tool in 10 minutes!\n",
    "\n",
    "We'll use [Neo4j](http://neo4j.com/) for data storage, [Python](https://www.python.org/) for data processing, [vis.js](http://visjs.org/) for data visualization.\n",
    "\n",
    "## Neo4j\n",
    "\n",
    "From [Wikipedia's Neo4j article](https://en.wikipedia.org/wiki/Neo4j) (with ephasis by me):\n",
    "\n",
    "> Neo4j is an **open-source graph database** implemented in Java and **accessible from software written in other languages** using the **Cypher query language** through a transactional HTTP endpoint. The developers describe Neo4j as an ACID-compliant transactional database with native graph storage and processing. **Neo4j is the most popular graph database.**\n",
    "\n",
    "A graph database is simply a set of **nodes** (things) and **relationships** (pairs of things). Both nodes and relationships can have labels or properties associated with them. Graph-traversal algorithms (both built-in and custom-built) read the properties of nodes and traverse the relationships between them to return nodes and relationships of interest.\n",
    "\n",
    "## 10-second overview\n",
    "\n",
    "In this session, we'll connect to the blank Neo4j database running on our local server.\n",
    "\n",
    "Then, we'll populate it with nodes that will define:\n",
    "\n",
    "* a \"model element\"\n",
    "* a \"model connection\"\n",
    "* our metamodel \\*\n",
    "* our project model\n",
    "* our project data\n",
    "\n",
    "and relationships that will define:\n",
    "\n",
    "* how our metamodel \\* conforms to the idea of \"elements\" and \"connections\"\n",
    "* how our project model conforms to our metamodel \\*\n",
    "* how our project data conforms to our project model\n",
    "\n",
    "Finally, we'll query our database and obtain useful views of our data, as well as suggestions for what additional data could be defined (what to ask our stakeholders).\n",
    "\n",
    "\\* We'll use a sloppy subset of UML in this session, but any metamodel is possible - SysML, UML, multi-layed ontologies, etc.\n",
    "\n",
    "## Jack and Jill and Kidney Failure\n",
    "\n",
    "Jack needs a kidney transplant or he will die. We will find him a donor with modeling!"
   ]
  },
  {
   "cell_type": "markdown",
   "metadata": {
    "slideshow": {
     "slide_type": "slide"
    }
   },
   "source": [
    "## Connect to the Neo4j Database\n",
    "\n",
    "First we'll connect to the database and delete any existing nodes and relationships.\n",
    "\n",
    "We'll communicate with Neo4j through the `py2neo` Python library."
   ]
  },
  {
   "cell_type": "code",
   "execution_count": 1,
   "metadata": {
    "collapsed": false,
    "slideshow": {
     "slide_type": "fragment"
    }
   },
   "outputs": [],
   "source": [
    "from py2neo import authenticate, Graph\n",
    "from py2neo.error import Unauthorized\n",
    "\n",
    "graph = Graph()\n",
    "\n",
    "try:\n",
    "    graph.delete_all()\n",
    "except Unauthorized:\n",
    "    # If you have a username/password, replace neo4j/password with your username/password\n",
    "    authenticate('localhost:7474', 'neo4j', 'password')\n",
    "    graph.delete_all()"
   ]
  },
  {
   "cell_type": "markdown",
   "metadata": {
    "slideshow": {
     "slide_type": "slide"
    }
   },
   "source": [
    "## Element and Connection\n",
    "\n",
    "Modeling is all about elements and connections. Similarly, graphs are all about nodes and relationships.\n",
    "\n",
    "We'll draw a clear distinction between element/connection and node/relationship right now - **both elements and connections are nodes.**\n",
    "\n",
    "##### Connections are Nodes?\n",
    "\n",
    "Connections have a lot of information in them - a connection's source and target are specific elements, and its generalization and specializations are other specific connections.\n",
    "\n",
    "Because a connection has relationships to those elements and connections, it cannot be a relationship itself. **Relationships do not have relationships.**\n",
    "\n",
    "#### Let's define our first nodes!"
   ]
  },
  {
   "cell_type": "code",
   "execution_count": 2,
   "metadata": {
    "collapsed": false,
    "scrolled": true,
    "slideshow": {
     "slide_type": "fragment"
    }
   },
   "outputs": [
    {
     "data": {
      "text/html": [
       "\n",
       "        <iframe\n",
       "            width=\"100%\"\n",
       "            height=\"400\"\n",
       "            src=\"figure/graph-407cc041-1e01-4872-8c83-3c50560d436c.html\"\n",
       "            frameborder=\"0\"\n",
       "            allowfullscreen\n",
       "        ></iframe>\n",
       "        "
      ],
      "text/plain": [
       "<IPython.lib.display.IFrame at 0x3fab530>"
      ]
     },
     "execution_count": 2,
     "metadata": {},
     "output_type": "execute_result"
    }
   ],
   "source": [
    "from py2neo import Node\n",
    "from scripts.vis import draw\n",
    "\n",
    "# Neo4j nodes are defined by labels and properties\n",
    "element = Node(\n",
    "    'Element',      # label\n",
    "    name='element'  # property\n",
    ")\n",
    "\n",
    "# This saves the node to the graph database\n",
    "graph.create(element)\n",
    "\n",
    "connection = Node('Connection', name='connection')\n",
    "graph.create(connection)\n",
    "\n",
    "# This function draws all of the graph's nodes and relationships in a bouncy vis.js visualization - drag the nodes around!\n",
    "draw(graph)"
   ]
  },
  {
   "cell_type": "markdown",
   "metadata": {
    "slideshow": {
     "slide_type": "subslide"
    }
   },
   "source": [
    "Elements connect to other elements through connections, so elements are the sources and targets of connections.\n",
    "\n",
    "We'll define relationships with a subject, verb, and object.\n",
    "\n",
    "In the below cell, the relationships are **an element is the source of a connection** and **an element is the target of a connection**."
   ]
  },
  {
   "cell_type": "code",
   "execution_count": 3,
   "metadata": {
    "collapsed": false,
    "slideshow": {
     "slide_type": "fragment"
    }
   },
   "outputs": [
    {
     "data": {
      "text/html": [
       "\n",
       "        <iframe\n",
       "            width=\"100%\"\n",
       "            height=\"400\"\n",
       "            src=\"figure/graph-56d59b5d-9e34-46cd-a393-5a0fd4f0d0f1.html\"\n",
       "            frameborder=\"0\"\n",
       "            allowfullscreen\n",
       "        ></iframe>\n",
       "        "
      ],
      "text/plain": [
       "<IPython.lib.display.IFrame at 0x3fc2b70>"
      ]
     },
     "execution_count": 3,
     "metadata": {},
     "output_type": "execute_result"
    }
   ],
   "source": [
    "from py2neo import Relationship\n",
    "\n",
    "# Neo4j relationships are mostly defined by a string label, as relationships do not inherit or relate to anything else.\n",
    "IS_THE_SOURCE_OF = 'IS_THE_SOURCE_OF'\n",
    "IS_THE_TARGET_OF = 'IS_THE_TARGET_OF'\n",
    "\n",
    "graph.create(Relationship(element, IS_THE_SOURCE_OF, connection))\n",
    "graph.create(Relationship(element, IS_THE_TARGET_OF, connection))\n",
    "\n",
    "# Unfortunately, vis.js draws relationships on top of each other - \"IS_THE_TARGET_OF\" is underneath \"IS_THE_SOURCE_OF\".\n",
    "draw(graph)"
   ]
  },
  {
   "cell_type": "markdown",
   "metadata": {
    "slideshow": {
     "slide_type": "slide"
    }
   },
   "source": [
    "## Metamodel Elements\n",
    "\n",
    "Now we need a metamodel - the logical framework that will eventually structure our model. For this project, we'll use a handful of elements and connections from UML, but the entirety of SysML can be defined in this same way.\n",
    "\n",
    "We'll define Class, Abstract Class, and Interface"
   ]
  },
  {
   "cell_type": "code",
   "execution_count": 4,
   "metadata": {
    "collapsed": false,
    "slideshow": {
     "slide_type": "fragment"
    }
   },
   "outputs": [
    {
     "data": {
      "text/html": [
       "\n",
       "        <iframe\n",
       "            width=\"100%\"\n",
       "            height=\"400\"\n",
       "            src=\"figure/graph-c0526cc4-ffd2-4bcf-898a-1cf7b803bb2c.html\"\n",
       "            frameborder=\"0\"\n",
       "            allowfullscreen\n",
       "        ></iframe>\n",
       "        "
      ],
      "text/plain": [
       "<IPython.lib.display.IFrame at 0x3fc4f30>"
      ]
     },
     "execution_count": 4,
     "metadata": {},
     "output_type": "execute_result"
    }
   ],
   "source": [
    "class_ = Node('Metamodel Element', name='class')\n",
    "abstract_class = Node('Metamodel Element', name='abstract class')\n",
    "interface = Node('Metamodel Element', name='interface')\n",
    "\n",
    "graph.create(class_, abstract_class, interface)\n",
    "\n",
    "draw(graph)"
   ]
  },
  {
   "cell_type": "markdown",
   "metadata": {
    "collapsed": true,
    "slideshow": {
     "slide_type": "slide"
    }
   },
   "source": [
    "### Relating the metamodel\n",
    "\n",
    "Class, Abstract Class, and Interface are all elements, so we relate the metamodel element nodes to the element node.\n",
    "\n",
    "We'll use the relationship \"X is a Y\" to define a specific instance of a more abstract definition, much like \"I am a Person\".\n",
    "\n",
    "*Note: If you see a distinction between inheritance, specialization, and instantiation, then A) bear with me and B) later you can define a sane metamodel.*"
   ]
  },
  {
   "cell_type": "code",
   "execution_count": 5,
   "metadata": {
    "collapsed": false,
    "scrolled": true,
    "slideshow": {
     "slide_type": "fragment"
    }
   },
   "outputs": [
    {
     "data": {
      "text/html": [
       "\n",
       "        <iframe\n",
       "            width=\"100%\"\n",
       "            height=\"400\"\n",
       "            src=\"figure/graph-01493742-8bd4-41c7-96ed-0af33503cd65.html\"\n",
       "            frameborder=\"0\"\n",
       "            allowfullscreen\n",
       "        ></iframe>\n",
       "        "
      ],
      "text/plain": [
       "<IPython.lib.display.IFrame at 0x3fc2cb0>"
      ]
     },
     "execution_count": 5,
     "metadata": {},
     "output_type": "execute_result"
    }
   ],
   "source": [
    "IS_A = 'IS_A'\n",
    "\n",
    "graph.create(Relationship(class_,         IS_A, element))\n",
    "graph.create(Relationship(abstract_class, IS_A, class_ ))\n",
    "graph.create(Relationship(interface,      IS_A, element))\n",
    "\n",
    "draw(graph)"
   ]
  },
  {
   "cell_type": "markdown",
   "metadata": {
    "slideshow": {
     "slide_type": "slide"
    }
   },
   "source": [
    "The relationships \"across layers\" (between element/connection and the metamodel) are grayed-out."
   ]
  },
  {
   "cell_type": "markdown",
   "metadata": {
    "slideshow": {
     "slide_type": "slide"
    }
   },
   "source": [
    "## Metamodel Connections\n",
    "\n",
    "The metamodel also contains connections between its elements, such as \"a Class implements an Interface\".\n",
    "\n",
    "Let's create these connections and their relationships at the same time."
   ]
  },
  {
   "cell_type": "code",
   "execution_count": 6,
   "metadata": {
    "collapsed": false,
    "scrolled": true,
    "slideshow": {
     "slide_type": "fragment"
    }
   },
   "outputs": [
    {
     "data": {
      "text/html": [
       "\n",
       "        <iframe\n",
       "            width=\"100%\"\n",
       "            height=\"400\"\n",
       "            src=\"figure/graph-c7add1e3-d614-4c51-a4a3-fd84b991b769.html\"\n",
       "            frameborder=\"0\"\n",
       "            allowfullscreen\n",
       "        ></iframe>\n",
       "        "
      ],
      "text/plain": [
       "<IPython.lib.display.IFrame at 0x3ff4c50>"
      ]
     },
     "execution_count": 6,
     "metadata": {},
     "output_type": "execute_result"
    }
   ],
   "source": [
    "composes = Node('Metamodel Connection', name='composes')\n",
    "graph.create(Relationship(composes, IS_A, connection))\n",
    "graph.create(Relationship(class_, IS_THE_SOURCE_OF, composes))\n",
    "graph.create(Relationship(class_, IS_THE_TARGET_OF, composes))\n",
    "\n",
    "generalizes = Node('Metamodel Connection', name='generalizes')\n",
    "graph.create(Relationship(generalizes, IS_A, connection))\n",
    "graph.create(Relationship(class_, IS_THE_SOURCE_OF, generalizes))\n",
    "graph.create(Relationship(class_, IS_THE_TARGET_OF, generalizes))\n",
    "\n",
    "implements = Node('Metamodel Connection', name='implements')\n",
    "graph.create(Relationship(implements, IS_A, connection))\n",
    "graph.create(Relationship(class_,    IS_THE_SOURCE_OF, implements))\n",
    "graph.create(Relationship(interface, IS_THE_TARGET_OF, implements))\n",
    "\n",
    "draw(graph)"
   ]
  },
  {
   "cell_type": "markdown",
   "metadata": {
    "slideshow": {
     "slide_type": "slide"
    }
   },
   "source": [
    "Drag nodes around to get a better view of the relationships."
   ]
  },
  {
   "cell_type": "markdown",
   "metadata": {
    "slideshow": {
     "slide_type": "slide"
    }
   },
   "source": [
    "## Model Elements\n",
    "\n",
    "Let's define our project model - in order to find Jack a kidney donor, we'll need to model the following:\n",
    "\n",
    "* humans\n",
    "* kidneys\n",
    "* blood types\n",
    "* friendship\n",
    "* dogs\n",
    "* octopuses\n",
    "\n",
    "Obviously we need to model dogs and octopuses in order to be thorough about this kidney search."
   ]
  },
  {
   "cell_type": "code",
   "execution_count": 7,
   "metadata": {
    "collapsed": false,
    "slideshow": {
     "slide_type": "fragment"
    }
   },
   "outputs": [
    {
     "data": {
      "text/html": [
       "\n",
       "        <iframe\n",
       "            width=\"100%\"\n",
       "            height=\"400\"\n",
       "            src=\"figure/graph-278919e3-f342-47b1-8cec-b89ca96774fc.html\"\n",
       "            frameborder=\"0\"\n",
       "            allowfullscreen\n",
       "        ></iframe>\n",
       "        "
      ],
      "text/plain": [
       "<IPython.lib.display.IFrame at 0x3ff9eb0>"
      ]
     },
     "execution_count": 7,
     "metadata": {},
     "output_type": "execute_result"
    }
   ],
   "source": [
    "animal = Node('Model Element', name='animal')\n",
    "graph.create(Relationship(animal, IS_A, abstract_class))\n",
    "\n",
    "vertebrate = Node('Model Element', name='vertebrate')\n",
    "graph.create(Relationship(vertebrate, IS_A, interface))\n",
    "\n",
    "human = Node('Model Element', name='human')\n",
    "graph.create(Relationship(human, IS_A, animal))\n",
    "\n",
    "dog = Node('Model Element', name='dog')\n",
    "graph.create(Relationship(dog, IS_A, animal))\n",
    "\n",
    "octopus = Node('Model Element', name='octopus')\n",
    "graph.create(Relationship(octopus, IS_A, animal))\n",
    "\n",
    "organ = Node('Model Element', name='organ')\n",
    "graph.create(Relationship(organ, IS_A, abstract_class))\n",
    "\n",
    "kidney = Node('Model Element', name='kidney')\n",
    "graph.create(Relationship(kidney, IS_A, organ))\n",
    "\n",
    "blood_type = Node('Model Element', name='blood type')\n",
    "graph.create(Relationship(blood_type, IS_A, class_))\n",
    "\n",
    "draw(graph, labels=['Model Element'])"
   ]
  },
  {
   "cell_type": "markdown",
   "metadata": {
    "slideshow": {
     "slide_type": "slide"
    }
   },
   "source": [
    "The above visualization is only a subset of the entire graph.\n",
    "\n",
    "From now on, after adding to the graph, we'll view it in multiple stages, zooming out from the new nodes to see the entire graph.\n",
    "\n",
    "Zoom in/out (by scrolling), pan (by dragging the white background), and drag nodes around to get a better view of all these graphs."
   ]
  },
  {
   "cell_type": "code",
   "execution_count": 8,
   "metadata": {
    "collapsed": false,
    "slideshow": {
     "slide_type": "fragment"
    }
   },
   "outputs": [
    {
     "data": {
      "text/html": [
       "\n",
       "        <iframe\n",
       "            width=\"100%\"\n",
       "            height=\"400\"\n",
       "            src=\"figure/graph-66283029-468b-478a-a279-801c1d95792e.html\"\n",
       "            frameborder=\"0\"\n",
       "            allowfullscreen\n",
       "        ></iframe>\n",
       "        "
      ],
      "text/plain": [
       "<IPython.lib.display.IFrame at 0x3fcb4b0>"
      ]
     },
     "execution_count": 8,
     "metadata": {},
     "output_type": "execute_result"
    }
   ],
   "source": [
    "draw(graph)"
   ]
  },
  {
   "cell_type": "markdown",
   "metadata": {
    "slideshow": {
     "slide_type": "slide"
    }
   },
   "source": [
    "## Model Connections\n",
    "\n",
    "To define how these model elements connect, we not only **sub-type existing** connection elements, we also **create new** connection elements.\n",
    "\n",
    "\"A human is a type of animal\" is a connection that we define for model completeness, but \"a dog has a blood type\" exists to enable specific dogs and specific blood types to connect when we input our dog and blood type data."
   ]
  },
  {
   "cell_type": "code",
   "execution_count": 9,
   "metadata": {
    "collapsed": false,
    "scrolled": false,
    "slideshow": {
     "slide_type": "fragment"
    }
   },
   "outputs": [
    {
     "data": {
      "text/html": [
       "\n",
       "        <iframe\n",
       "            width=\"100%\"\n",
       "            height=\"400\"\n",
       "            src=\"figure/graph-4d49f94f-cdfd-4fbc-b9c4-8032bd27c9b3.html\"\n",
       "            frameborder=\"0\"\n",
       "            allowfullscreen\n",
       "        ></iframe>\n",
       "        "
      ],
      "text/plain": [
       "<IPython.lib.display.IFrame at 0x42d6a10>"
      ]
     },
     "execution_count": 9,
     "metadata": {},
     "output_type": "execute_result"
    }
   ],
   "source": [
    "animal__generalizes__human = Node('Model Connection', name='animal generalizes human')\n",
    "graph.create(Relationship(animal__generalizes__human, IS_A, generalizes))\n",
    "graph.create(Relationship(animal, IS_THE_SOURCE_OF, animal__generalizes__human))\n",
    "graph.create(Relationship(human,  IS_THE_TARGET_OF, animal__generalizes__human))\n",
    "\n",
    "animal__generalizes__dog = Node('Model Connection', name='animal generalizes dog')\n",
    "graph.create(Relationship(animal__generalizes__dog, IS_A, generalizes))\n",
    "graph.create(Relationship(animal, IS_THE_SOURCE_OF, animal__generalizes__dog))\n",
    "graph.create(Relationship(dog,    IS_THE_TARGET_OF, animal__generalizes__dog))\n",
    "\n",
    "animal__generalizes__octopus = Node('Model Connection', name='animal generalizes octopus')\n",
    "graph.create(Relationship(animal__generalizes__octopus, IS_A, generalizes))\n",
    "graph.create(Relationship(animal,  IS_THE_SOURCE_OF, animal__generalizes__octopus))\n",
    "graph.create(Relationship(octopus, IS_THE_TARGET_OF, animal__generalizes__octopus))\n",
    "\n",
    "human__implements__vertebrate = Node('Model Connection', name='human implements vertebrate')\n",
    "graph.create(Relationship(human__implements__vertebrate, IS_A, implements))\n",
    "graph.create(Relationship(human,      IS_THE_SOURCE_OF, human__implements__vertebrate))\n",
    "graph.create(Relationship(vertebrate, IS_THE_TARGET_OF, human__implements__vertebrate))\n",
    "\n",
    "dog__implements__vertebrate = Node('Model Connection', name='dog implements vertebrate')\n",
    "graph.create(Relationship(dog__implements__vertebrate, IS_A, implements))\n",
    "graph.create(Relationship(dog,        IS_THE_SOURCE_OF, dog__implements__vertebrate))\n",
    "graph.create(Relationship(vertebrate, IS_THE_TARGET_OF, dog__implements__vertebrate))\n",
    "\n",
    "organ__composes__animal = Node('Model Connection', name='organ is inside')\n",
    "graph.create(Relationship(organ__composes__animal, IS_A, composes))\n",
    "graph.create(Relationship(animal, IS_THE_SOURCE_OF, organ__composes__animal))\n",
    "graph.create(Relationship(organ,  IS_THE_TARGET_OF, organ__composes__animal))\n",
    "\n",
    "has_blood_type = Node('Model Connection', name='has blood type')\n",
    "graph.create(Relationship(has_blood_type, IS_A, composes))\n",
    "graph.create(Relationship(animal,     IS_THE_SOURCE_OF, has_blood_type))\n",
    "graph.create(Relationship(blood_type, IS_THE_TARGET_OF, has_blood_type))\n",
    "\n",
    "kidney_is_inside = Node('Model Connection', name='kidney is inside')\n",
    "graph.create(Relationship(kidney_is_inside, IS_A, composes))\n",
    "graph.create(Relationship(kidney,     IS_THE_SOURCE_OF, kidney_is_inside))\n",
    "graph.create(Relationship(vertebrate, IS_THE_TARGET_OF, kidney_is_inside))\n",
    "\n",
    "is_friends_with = Node('Model Connection', name='is friends with')\n",
    "graph.create(Relationship(is_friends_with, IS_A, connection))\n",
    "graph.create(Relationship(animal, IS_THE_SOURCE_OF, is_friends_with))\n",
    "graph.create(Relationship(animal, IS_THE_SOURCE_OF, is_friends_with))\n",
    "\n",
    "draw(graph, labels=['Model Connection'])"
   ]
  },
  {
   "cell_type": "code",
   "execution_count": 10,
   "metadata": {
    "collapsed": false,
    "scrolled": false,
    "slideshow": {
     "slide_type": "slide"
    }
   },
   "outputs": [
    {
     "data": {
      "text/html": [
       "\n",
       "        <iframe\n",
       "            width=\"100%\"\n",
       "            height=\"400\"\n",
       "            src=\"figure/graph-783f64fd-7458-491a-909d-540b0c401e58.html\"\n",
       "            frameborder=\"0\"\n",
       "            allowfullscreen\n",
       "        ></iframe>\n",
       "        "
      ],
      "text/plain": [
       "<IPython.lib.display.IFrame at 0x42e9cd0>"
      ]
     },
     "execution_count": 10,
     "metadata": {},
     "output_type": "execute_result"
    }
   ],
   "source": [
    "draw(graph, relax_gray_relationships=True)"
   ]
  },
  {
   "cell_type": "markdown",
   "metadata": {
    "slideshow": {
     "slide_type": "slide"
    }
   },
   "source": [
    "## Instance Elements\n",
    "\n",
    "It's finally time for us to input data about Jack, his friends, and their kidneys!"
   ]
  },
  {
   "cell_type": "code",
   "execution_count": 11,
   "metadata": {
    "collapsed": false,
    "scrolled": true,
    "slideshow": {
     "slide_type": "fragment"
    }
   },
   "outputs": [
    {
     "data": {
      "text/html": [
       "\n",
       "        <iframe\n",
       "            width=\"100%\"\n",
       "            height=\"400\"\n",
       "            src=\"figure/graph-1918d85d-c5f3-4b64-bff2-4439f076d964.html\"\n",
       "            frameborder=\"0\"\n",
       "            allowfullscreen\n",
       "        ></iframe>\n",
       "        "
      ],
      "text/plain": [
       "<IPython.lib.display.IFrame at 0x3fc2190>"
      ]
     },
     "execution_count": 11,
     "metadata": {},
     "output_type": "execute_result"
    }
   ],
   "source": [
    "jack = Node('Instance Element', name='jack')\n",
    "graph.create(Relationship(jack, IS_A, human))\n",
    "\n",
    "jill = Node('Instance Element', name='jill')\n",
    "graph.create(Relationship(jill, IS_A, human))\n",
    "\n",
    "john = Node('Instance Element', name='john')\n",
    "graph.create(Relationship(john, IS_A, human))\n",
    "\n",
    "jane = Node('Instance Element', name='jane')\n",
    "graph.create(Relationship(jane, IS_A, human))\n",
    "\n",
    "jasper = Node('Instance Element', name='jasper')\n",
    "graph.create(Relationship(jasper, IS_A, dog))\n",
    "\n",
    "jacoby = Node('Instance Element', name='jacoby')\n",
    "graph.create(Relationship(jacoby, IS_A, octopus))\n",
    "\n",
    "a_positive = Node('Instance Element', name='a+')\n",
    "graph.create(Relationship(a_positive, IS_A, blood_type))\n",
    "\n",
    "b_negative = Node('Instance Element', name='b-')\n",
    "graph.create(Relationship(b_negative, IS_A, blood_type))\n",
    "\n",
    "dea_one_point_one_negative = Node('Instance Element', name='dea 1.1-')\n",
    "graph.create(Relationship(dea_one_point_one_negative, IS_A, blood_type))\n",
    "\n",
    "invertebrate_blood = Node('Instance Element', name='invertebrate blood')\n",
    "graph.create(Relationship(invertebrate_blood, IS_A, blood_type))\n",
    "\n",
    "jack_left_kidney = Node('Instance Element', name=\"jack's left kidney\")\n",
    "graph.create(Relationship(jack_left_kidney, IS_A, kidney))\n",
    "\n",
    "jill_right_kidney = Node('Instance Element', name=\"jill's right kidney\")\n",
    "graph.create(Relationship(jill_right_kidney, IS_A, kidney))\n",
    "\n",
    "john_left_kidney = Node('Instance Element', name=\"john's left kidney\")\n",
    "graph.create(Relationship(john_left_kidney, IS_A, kidney))\n",
    "\n",
    "john_right_kidney = Node('Instance Element', name=\"john's right kidney\")\n",
    "graph.create(Relationship(john_right_kidney, IS_A, kidney))\n",
    "\n",
    "jane_left_kidney = Node('Instance Element', name=\"jane's left kidney\")\n",
    "graph.create(Relationship(jane_left_kidney, IS_A, kidney))\n",
    "\n",
    "jane_right_kidney = Node('Instance Element', name=\"jane's right kidney\")\n",
    "graph.create(Relationship(jane_right_kidney, IS_A, kidney))\n",
    "\n",
    "jasper_left_kidney = Node('Instance Element', name=\"jasper's left kidney\")\n",
    "graph.create(Relationship(jasper_left_kidney, IS_A, kidney))\n",
    "\n",
    "jasper_right_kidney = Node('Instance Element', name=\"jasper's right kidney\")\n",
    "graph.create(Relationship(jasper_right_kidney, IS_A, kidney))\n",
    "\n",
    "draw(graph, labels=['Instance Element'])"
   ]
  },
  {
   "cell_type": "markdown",
   "metadata": {
    "slideshow": {
     "slide_type": "slide"
    }
   },
   "source": [
    "## Instance Connections\n",
    "\n",
    "... and we connect the instance elements to complete the data..."
   ]
  },
  {
   "cell_type": "code",
   "execution_count": 12,
   "metadata": {
    "collapsed": false,
    "slideshow": {
     "slide_type": "fragment"
    }
   },
   "outputs": [
    {
     "data": {
      "text/html": [
       "\n",
       "        <iframe\n",
       "            width=\"100%\"\n",
       "            height=\"400\"\n",
       "            src=\"figure/graph-91993893-6109-4eca-bad3-305aa969cceb.html\"\n",
       "            frameborder=\"0\"\n",
       "            allowfullscreen\n",
       "        ></iframe>\n",
       "        "
      ],
      "text/plain": [
       "<IPython.lib.display.IFrame at 0x4696f50>"
      ]
     },
     "execution_count": 12,
     "metadata": {},
     "output_type": "execute_result"
    }
   ],
   "source": [
    "jack__has_blood_type__a_positive = Node('Instance Connection', name='jack has blood type A+')\n",
    "graph.create(Relationship(jack__has_blood_type__a_positive, IS_A, has_blood_type))\n",
    "graph.create(Relationship(jack,       IS_THE_SOURCE_OF, jack__has_blood_type__a_positive))\n",
    "graph.create(Relationship(a_positive, IS_THE_TARGET_OF, jack__has_blood_type__a_positive))\n",
    "\n",
    "jill__has_blood_type__b_negative = Node('Instance Connection', name='jill has blood type B-')\n",
    "graph.create(Relationship(jill__has_blood_type__b_negative, IS_A, has_blood_type))\n",
    "graph.create(Relationship(jill,       IS_THE_SOURCE_OF, jill__has_blood_type__b_negative))\n",
    "graph.create(Relationship(b_negative, IS_THE_TARGET_OF, jill__has_blood_type__b_negative))\n",
    "\n",
    "jane__has_blood_type__a_positive = Node('Instance Connection', name='jane has blood type A+')\n",
    "graph.create(Relationship(jane__has_blood_type__a_positive, IS_A, has_blood_type))\n",
    "graph.create(Relationship(jane,       IS_THE_SOURCE_OF, jane__has_blood_type__a_positive))\n",
    "graph.create(Relationship(a_positive, IS_THE_TARGET_OF, jane__has_blood_type__a_positive))\n",
    "\n",
    "jasper__has_blood_type__dea_one_point_one_negative = Node('Instance Connection', name='jasper has blood type B-')\n",
    "graph.create(Relationship(jasper__has_blood_type__dea_one_point_one_negative, IS_A, has_blood_type))\n",
    "graph.create(Relationship(jasper,                     IS_THE_SOURCE_OF, jasper__has_blood_type__dea_one_point_one_negative))\n",
    "graph.create(Relationship(dea_one_point_one_negative, IS_THE_TARGET_OF, jasper__has_blood_type__dea_one_point_one_negative))\n",
    "\n",
    "jacoby__has_blood_type__invertebrate_blood = Node('Instance Connection', name='jacoby has blood type B-')\n",
    "graph.create(Relationship(jacoby__has_blood_type__invertebrate_blood, IS_A, has_blood_type))\n",
    "graph.create(Relationship(jacoby,             IS_THE_SOURCE_OF, jacoby__has_blood_type__invertebrate_blood))\n",
    "graph.create(Relationship(invertebrate_blood, IS_THE_TARGET_OF, jacoby__has_blood_type__invertebrate_blood))\n",
    "\n",
    "jack_left_kidney__kidney_is_inside__jack = Node('Instance Connection', name=\"jack's left kidney is inside jack\")\n",
    "graph.create(Relationship(jack_left_kidney__kidney_is_inside__jack, IS_A, kidney_is_inside))\n",
    "graph.create(Relationship(jack_left_kidney, IS_THE_SOURCE_OF, jack_left_kidney__kidney_is_inside__jack))\n",
    "graph.create(Relationship(jack,             IS_THE_TARGET_OF, jack_left_kidney__kidney_is_inside__jack))\n",
    "\n",
    "jill_right_kidney__kidney_is_inside__jill = Node('Instance Connection', name=\"jill's right kidney is inside jill\")\n",
    "graph.create(Relationship(jill_right_kidney__kidney_is_inside__jill, IS_A, kidney_is_inside))\n",
    "graph.create(Relationship(jill_right_kidney, IS_THE_SOURCE_OF, jill_right_kidney__kidney_is_inside__jill))\n",
    "graph.create(Relationship(jill,              IS_THE_TARGET_OF, jill_right_kidney__kidney_is_inside__jill))\n",
    "\n",
    "john_left_kidney__kidney_is_inside__john = Node('Instance Connection', name=\"john's left kidney is inside john\")\n",
    "graph.create(Relationship(john_left_kidney__kidney_is_inside__john, IS_A, kidney_is_inside))\n",
    "graph.create(Relationship(john_left_kidney, IS_THE_SOURCE_OF, john_left_kidney__kidney_is_inside__john))\n",
    "graph.create(Relationship(john,             IS_THE_TARGET_OF, john_left_kidney__kidney_is_inside__john))\n",
    "\n",
    "john_right_kidney__kidney_is_inside__john = Node('Instance Connection', name=\"john's right kidney is inside john\")\n",
    "graph.create(Relationship(john_right_kidney__kidney_is_inside__john, IS_A, kidney_is_inside))\n",
    "graph.create(Relationship(john_right_kidney, IS_THE_SOURCE_OF, john_right_kidney__kidney_is_inside__john))\n",
    "graph.create(Relationship(john,              IS_THE_TARGET_OF, john_right_kidney__kidney_is_inside__john))\n",
    "\n",
    "jane_left_kidney__kidney_is_inside__jane = Node('Instance Connection', name=\"jane's left kidney is inside jane\")\n",
    "graph.create(Relationship(jane_left_kidney__kidney_is_inside__jane, IS_A, kidney_is_inside))\n",
    "graph.create(Relationship(jane_left_kidney, IS_THE_SOURCE_OF, jane_left_kidney__kidney_is_inside__jane))\n",
    "graph.create(Relationship(jane,             IS_THE_TARGET_OF, jane_left_kidney__kidney_is_inside__jane))\n",
    "\n",
    "jane_right_kidney__kidney_is_inside__jane = Node('Instance Connection', name=\"jane's right kidney is inside jane\")\n",
    "graph.create(Relationship(jane_right_kidney__kidney_is_inside__jane, IS_A, kidney_is_inside))\n",
    "graph.create(Relationship(jane_right_kidney, IS_THE_SOURCE_OF, jane_right_kidney__kidney_is_inside__jane))\n",
    "graph.create(Relationship(jane,              IS_THE_TARGET_OF, jane_right_kidney__kidney_is_inside__jane))\n",
    "\n",
    "jasper_left_kidney__kidney_is_inside__jasper = Node('Instance Connection', name=\"jasper's left kidney is inside jasper\")\n",
    "graph.create(Relationship(jasper_left_kidney__kidney_is_inside__jasper, IS_A, kidney_is_inside))\n",
    "graph.create(Relationship(jasper_left_kidney, IS_THE_SOURCE_OF, jasper_left_kidney__kidney_is_inside__jasper))\n",
    "graph.create(Relationship(jasper,             IS_THE_TARGET_OF, jasper_left_kidney__kidney_is_inside__jasper))\n",
    "\n",
    "jasper_right_kidney__kidney_is_inside__jasper = Node('Instance Connection', name=\"jasper's left kidney is inside jasper\")\n",
    "graph.create(Relationship(jasper_right_kidney__kidney_is_inside__jasper, IS_A, kidney_is_inside))\n",
    "graph.create(Relationship(jasper_right_kidney, IS_THE_SOURCE_OF, jasper_right_kidney__kidney_is_inside__jasper))\n",
    "graph.create(Relationship(jasper,              IS_THE_TARGET_OF, jasper_right_kidney__kidney_is_inside__jasper))\n",
    "\n",
    "jack__is_friends_with__jill = Node('Instance Connection', name='jack is friends with jill')\n",
    "graph.create(Relationship(jack__is_friends_with__jill, IS_A, is_friends_with))\n",
    "graph.create(Relationship(jack, IS_THE_SOURCE_OF, jack__is_friends_with__jill))\n",
    "graph.create(Relationship(jill, IS_THE_TARGET_OF, jack__is_friends_with__jill))\n",
    "\n",
    "jill__is_friends_with__john = Node('Instance Connection', name='jill is friends with john')\n",
    "graph.create(Relationship(jill__is_friends_with__john, IS_A, is_friends_with))\n",
    "graph.create(Relationship(jill, IS_THE_SOURCE_OF, jill__is_friends_with__john))\n",
    "graph.create(Relationship(john, IS_THE_TARGET_OF, jill__is_friends_with__john))\n",
    "\n",
    "john__is_friends_with__jane = Node('Instance Connection', name='john is friends with jane')\n",
    "graph.create(Relationship(john__is_friends_with__jane, IS_A, is_friends_with))\n",
    "graph.create(Relationship(john, IS_THE_SOURCE_OF, john__is_friends_with__jane))\n",
    "graph.create(Relationship(jane, IS_THE_TARGET_OF, john__is_friends_with__jane))\n",
    "\n",
    "jack__is_friends_with__jasper = Node('Instance Connection', name='jack is friends with jasper')\n",
    "graph.create(Relationship(jack__is_friends_with__jasper, IS_A, is_friends_with))\n",
    "graph.create(Relationship(jack,   IS_THE_SOURCE_OF, jack__is_friends_with__jasper))\n",
    "graph.create(Relationship(jasper, IS_THE_TARGET_OF, jack__is_friends_with__jasper))\n",
    "\n",
    "jack__is_friends_with__jacoby = Node('Instance Connection', name='jack is friends with jacoby')\n",
    "graph.create(Relationship(jack__is_friends_with__jacoby, IS_A, is_friends_with))\n",
    "graph.create(Relationship(jack,   IS_THE_SOURCE_OF, jack__is_friends_with__jacoby))\n",
    "graph.create(Relationship(jacoby, IS_THE_TARGET_OF, jack__is_friends_with__jacoby))\n",
    "\n",
    "\n",
    "draw(graph, labels=['Instance Connection'])"
   ]
  },
  {
   "cell_type": "code",
   "execution_count": 13,
   "metadata": {
    "collapsed": false,
    "scrolled": false,
    "slideshow": {
     "slide_type": "slide"
    }
   },
   "outputs": [
    {
     "data": {
      "text/html": [
       "\n",
       "        <iframe\n",
       "            width=\"100%\"\n",
       "            height=\"400\"\n",
       "            src=\"figure/graph-aaff8dfc-d585-4c04-b465-015d12aa46fc.html\"\n",
       "            frameborder=\"0\"\n",
       "            allowfullscreen\n",
       "        ></iframe>\n",
       "        "
      ],
      "text/plain": [
       "<IPython.lib.display.IFrame at 0x3fd51d0>"
      ]
     },
     "execution_count": 13,
     "metadata": {},
     "output_type": "execute_result"
    }
   ],
   "source": [
    "draw(graph, labels=['Instance Element'])"
   ]
  },
  {
   "cell_type": "code",
   "execution_count": 14,
   "metadata": {
    "collapsed": false,
    "scrolled": false,
    "slideshow": {
     "slide_type": "slide"
    }
   },
   "outputs": [
    {
     "data": {
      "text/html": [
       "\n",
       "        <iframe\n",
       "            width=\"100%\"\n",
       "            height=\"400\"\n",
       "            src=\"figure/graph-411ca87c-4902-4762-bc02-945fee3680b2.html\"\n",
       "            frameborder=\"0\"\n",
       "            allowfullscreen\n",
       "        ></iframe>\n",
       "        "
      ],
      "text/plain": [
       "<IPython.lib.display.IFrame at 0x4c91550>"
      ]
     },
     "execution_count": 14,
     "metadata": {},
     "output_type": "execute_result"
    }
   ],
   "source": [
    "draw(graph, relax_gray_relationships=True)"
   ]
  },
  {
   "cell_type": "markdown",
   "metadata": {
    "slideshow": {
     "slide_type": "slide"
    }
   },
   "source": [
    "## Voila! A fully-queryable metamodel/model/instance database!\n",
    "\n",
    "##### Queryable?\n",
    "\n",
    "Neo4j queries are performed with the [Cypher Query Language](http://neo4j.com/docs/stable/cypher-query-lang.html).\n",
    "\n",
    "Much of a Cypher query looks like you're drawing a graph between `(nodes) -[relationships]-> (and other nodes)`, with a few `WHERE` and `AS` keywords thrown in.\n",
    "\n",
    "Both nodes and relationships can have labels and properties, so we add those labels and properties to the \"drawings\" in our queries, in order to specify which nodes and relationships we're looking for."
   ]
  },
  {
   "cell_type": "code",
   "execution_count": 15,
   "metadata": {
    "collapsed": false,
    "scrolled": false,
    "slideshow": {
     "slide_type": "slide"
    }
   },
   "outputs": [
    {
     "data": {
      "text/plain": [
       "   | Jack's Type\n",
       "---+-------------\n",
       " 1 | human      "
      ]
     },
     "execution_count": 15,
     "metadata": {},
     "output_type": "execute_result"
    }
   ],
   "source": [
    "# Refer to a node: (variable_name)\n",
    "graph.cypher.execute(\"MATCH ({name:'jack'}) -[:IS_A]-> (jack_type) RETURN jack_type.name AS `Jack's Type`\")"
   ]
  },
  {
   "cell_type": "code",
   "execution_count": 16,
   "metadata": {
    "collapsed": false,
    "scrolled": false,
    "slideshow": {
     "slide_type": "slide"
    }
   },
   "outputs": [
    {
     "data": {
      "text/plain": [
       "   | Humans\n",
       "---+--------\n",
       " 1 | jane  \n",
       " 2 | john  \n",
       " 3 | jill  \n",
       " 4 | jack  "
      ]
     },
     "execution_count": 16,
     "metadata": {},
     "output_type": "execute_result"
    }
   ],
   "source": [
    "# Refer to multiple nodes in the same way\n",
    "graph.cypher.execute(\"MATCH (humans) -[:IS_A]-> ({name: 'human'}) RETURN humans.name AS `Humans`\")"
   ]
  },
  {
   "cell_type": "code",
   "execution_count": 17,
   "metadata": {
    "collapsed": false,
    "scrolled": true,
    "slideshow": {
     "slide_type": "slide"
    }
   },
   "outputs": [
    {
     "data": {
      "text/plain": [
       "    | Jack's Nearby Nodes              \n",
       "----+-----------------------------------\n",
       "  1 | human                            \n",
       "  2 | animal                           \n",
       "  3 | animal generalizes human         \n",
       "  4 | human implements vertebrate      \n",
       "  5 | jill                             \n",
       "  6 | john                             \n",
       "  7 | jane                             \n",
       "  8 | jack has blood type A+           \n",
       "  9 | has blood type                   \n",
       " 10 | a+                               \n",
       " 11 | jack's left kidney is inside jack\n",
       " 12 | kidney is inside                 \n",
       " 13 | jack's left kidney               \n",
       " 14 | jack is friends with jill        \n",
       " 15 | is friends with                  \n",
       " 16 | jack is friends with jasper      \n",
       " 17 | jasper                           \n",
       " 18 | jack is friends with jacoby      \n",
       " 19 | jacoby                           "
      ]
     },
     "execution_count": 17,
     "metadata": {},
     "output_type": "execute_result"
    }
   ],
   "source": [
    "# Bi-directional relationships: -[]-\n",
    "graph.cypher.execute(\"MATCH ({name:'jack'}) -[*1..2]- (neighbors) RETURN DISTINCT neighbors.name AS `Jack's Nearby Nodes`\")"
   ]
  },
  {
   "cell_type": "markdown",
   "metadata": {
    "slideshow": {
     "slide_type": "slide"
    }
   },
   "source": [
    "Node properties, relationship types, and path length allow us to ask much more complex and useful questions, too.\n",
    "\n",
    "##### Like what?\n",
    "\n",
    "Let's ask our database some questions to learn about Jack's situation:\n",
    "\n",
    "* What is Jack's blood type?\n",
    "* Who has Jack's blood type?\n",
    "* Who has a spare kidney?\n",
    "* Who has Jack's blood type and a spare kidney?\n",
    "* Who is Jack friends with?\n",
    "* Who can Jack become friends with?\n",
    "* Who can Jack become friends with that has Jack's blood type and a spare kidney?\n",
    "* Whose blood type do we not know?"
   ]
  },
  {
   "cell_type": "code",
   "execution_count": 18,
   "metadata": {
    "collapsed": false,
    "scrolled": false,
    "slideshow": {
     "slide_type": "slide"
    }
   },
   "outputs": [
    {
     "data": {
      "text/plain": [
       "   | Jack's blood type\n",
       "---+-------------------\n",
       " 1 | a+               "
      ]
     },
     "execution_count": 18,
     "metadata": {},
     "output_type": "execute_result"
    }
   ],
   "source": [
    "query = \"\"\"MATCH\n",
    "(jack {name:\"jack\"})          -[:IS_THE_SOURCE_OF]-> (jack__blood_type_connection),\n",
    "(jack_blood_type)             -[:IS_THE_TARGET_OF]-> (jack__blood_type_connection),\n",
    "(jack__blood_type_connection)       -[:IS_A]->       ({name: \"has blood type\"})\n",
    "RETURN\n",
    "jack_blood_type.name AS `Jack's blood type`\"\"\"\n",
    "\n",
    "graph.cypher.execute(query)"
   ]
  },
  {
   "cell_type": "code",
   "execution_count": 19,
   "metadata": {
    "collapsed": false,
    "scrolled": false,
    "slideshow": {
     "slide_type": "slide"
    }
   },
   "outputs": [
    {
     "data": {
      "text/plain": [
       "   | Others with Jack's blood type\n",
       "---+-------------------------------\n",
       " 1 | jane                         "
      ]
     },
     "execution_count": 19,
     "metadata": {},
     "output_type": "execute_result"
    }
   ],
   "source": [
    "query = \"\"\"MATCH\n",
    "(jack {name:\"jack\"})          -[:IS_THE_SOURCE_OF]-> (jack__blood_type_connection),\n",
    "(jack_blood_type)             -[:IS_THE_TARGET_OF]-> (jack__blood_type_connection),\n",
    "(jack__blood_type_connection)      -[:IS_A]->       ({name: \"has blood type\"}),\n",
    "(others_with_jack_blood_type) -[:IS_THE_SOURCE_OF]-> () <-[:IS_THE_TARGET_OF]- (jack_blood_type)\n",
    "RETURN\n",
    "others_with_jack_blood_type.name AS `Others with Jack's blood type`\"\"\"\n",
    "\n",
    "graph.cypher.execute(query)"
   ]
  },
  {
   "cell_type": "code",
   "execution_count": 20,
   "metadata": {
    "collapsed": false,
    "scrolled": false,
    "slideshow": {
     "slide_type": "slide"
    }
   },
   "outputs": [
    {
     "data": {
      "text/plain": [
       "   | Others with a kidney | Number of kidneys\n",
       "---+----------------------+-------------------\n",
       " 1 | jane                 |                 2\n",
       " 2 | jasper               |                 2\n",
       " 3 | john                 |                 2\n",
       " 4 | jill                 |                 1"
      ]
     },
     "execution_count": 20,
     "metadata": {},
     "output_type": "execute_result"
    }
   ],
   "source": [
    "query = \"\"\"MATCH\n",
    "(others_with_a_kidney) -[:IS_THE_TARGET_OF]-> () -[:IS_A]-> ({name:\"kidney is inside\"})\n",
    "WHERE\n",
    "others_with_a_kidney.name <> \"jack\"\n",
    "RETURN\n",
    "others_with_a_kidney.name AS `Others with a kidney`,\n",
    "count(*) AS `Number of kidneys` ORDER BY `Number of kidneys` DESC\n",
    "\"\"\"\n",
    "\n",
    "graph.cypher.execute(query)"
   ]
  },
  {
   "cell_type": "code",
   "execution_count": 21,
   "metadata": {
    "collapsed": false,
    "scrolled": false,
    "slideshow": {
     "slide_type": "slide"
    }
   },
   "outputs": [
    {
     "data": {
      "text/plain": [
       "   | Others with Jack's blood type and a kidney\n",
       "---+--------------------------------------------\n",
       " 1 | jane                                      "
      ]
     },
     "execution_count": 21,
     "metadata": {},
     "output_type": "execute_result"
    }
   ],
   "source": [
    "# TODO: check that they have multiple kidneys\n",
    "query = \"\"\"MATCH\n",
    "(jack {name:\"jack\"})          -[:IS_THE_SOURCE_OF]-> (jack__blood_type_connection),\n",
    "(jack_blood_type)             -[:IS_THE_TARGET_OF]-> (jack__blood_type_connection),\n",
    "(jack__blood_type_connection)      -[:IS_A]->        ({name: \"has blood type\"}),\n",
    "(others_with_jack_blood_type) -[:IS_THE_SOURCE_OF]-> () <-[:IS_THE_TARGET_OF]- (jack_blood_type)\n",
    "WHERE\n",
    "(others_with_jack_blood_type) -[:IS_THE_TARGET_OF]-> () -[:IS_A]-> ({name:\"kidney is inside\"})\n",
    "RETURN\n",
    "others_with_jack_blood_type.name AS `Others with Jack's blood type and a kidney`\"\"\"\n",
    "\n",
    "graph.cypher.execute(query)"
   ]
  },
  {
   "cell_type": "code",
   "execution_count": 22,
   "metadata": {
    "collapsed": false,
    "scrolled": false,
    "slideshow": {
     "slide_type": "slide"
    }
   },
   "outputs": [
    {
     "data": {
      "text/plain": [
       "   | Jack's immediate friends\n",
       "---+--------------------------\n",
       " 1 | jacoby                  \n",
       " 2 | jasper                  \n",
       " 3 | jill                    "
      ]
     },
     "execution_count": 22,
     "metadata": {},
     "output_type": "execute_result"
    }
   ],
   "source": [
    "query = \"\"\"MATCH\n",
    "({name:\"jack\"}) -[:IS_THE_SOURCE_OF]-> (friendships) -[:IS_A]-> ({name: \"is friends with\"}),\n",
    "(friends)       -[:IS_THE_TARGET_OF]-> (friendships)\n",
    "RETURN friends.name as `Jack's immediate friends`\n",
    "\"\"\"\n",
    "\n",
    "graph.cypher.execute(query)"
   ]
  },
  {
   "cell_type": "code",
   "execution_count": 23,
   "metadata": {
    "collapsed": false,
    "scrolled": false,
    "slideshow": {
     "slide_type": "slide"
    }
   },
   "outputs": [
    {
     "data": {
      "text/plain": [
       "   | Friends of Jack's friends\n",
       "---+---------------------------\n",
       " 1 | jill                     \n",
       " 2 | john                     \n",
       " 3 | jane                     \n",
       " 4 | jasper                   \n",
       " 5 | jacoby                   "
      ]
     },
     "execution_count": 23,
     "metadata": {},
     "output_type": "execute_result"
    }
   ],
   "source": [
    "# TODO: only traverse source/target relationships for friendship connections\n",
    "query = \"\"\"MATCH\n",
    "({name:\"jack\"}) -[:`IS_THE_SOURCE_OF`|`IS_THE_TARGET_OF`*]- (friendships_of_friends:`Instance Connection`),\n",
    "(friendships_of_friends)       -[:IS_A]->       ({name: \"is friends with\"}),\n",
    "(friends)                -[:IS_THE_TARGET_OF]-> (friendships_of_friends)\n",
    "RETURN DISTINCT friends.name as `Friends of Jack's friends`\n",
    "\"\"\"\n",
    "\n",
    "graph.cypher.execute(query)"
   ]
  },
  {
   "cell_type": "code",
   "execution_count": 24,
   "metadata": {
    "collapsed": false,
    "scrolled": false,
    "slideshow": {
     "slide_type": "slide"
    }
   },
   "outputs": [
    {
     "data": {
      "text/plain": [
       "   | Friends of Jack's friends with his blood type and a kidney\n",
       "---+------------------------------------------------------------\n",
       " 1 | jane                                                      "
      ]
     },
     "execution_count": 24,
     "metadata": {},
     "output_type": "execute_result"
    }
   ],
   "source": [
    "# TODO: check that they have multiple kidneys\n",
    "# TODO: only traverse source/target relationships for friendship connections\n",
    "query = \"\"\"MATCH\n",
    "(jack {name:\"jack\"})           -[:IS_THE_SOURCE_OF]-> (jack__blood_type_connection),\n",
    "(jack_blood_type)              -[:IS_THE_TARGET_OF]-> (jack__blood_type_connection),\n",
    "(jack__blood_type_connection)        -[:IS_A]->       ({name: \"has blood type\"}),\n",
    "(friends_with_jack_blood_type) -[:IS_THE_SOURCE_OF]-> () <-[:IS_THE_TARGET_OF]- (jack_blood_type),\n",
    "(jack)   -[:`IS_THE_SOURCE_OF`|`IS_THE_TARGET_OF`*]-  (friendships_of_friends:`Instance Connection`),\n",
    "(friendships_of_friends)             -[:IS_A]->       ({name: \"is friends with\"}),\n",
    "(friends_with_jack_blood_type) -[:IS_THE_TARGET_OF]-> (friendships_of_friends)\n",
    "WHERE\n",
    "(friends_with_jack_blood_type) -[:IS_THE_TARGET_OF]-> () -[:IS_A]-> ({name:\"kidney is inside\"})\n",
    "RETURN\n",
    "friends_with_jack_blood_type.name AS `Friends of Jack's friends with his blood type and a kidney`\"\"\"\n",
    "\n",
    "graph.cypher.execute(query)"
   ]
  },
  {
   "cell_type": "code",
   "execution_count": 25,
   "metadata": {
    "collapsed": false,
    "scrolled": false,
    "slideshow": {
     "slide_type": "slide"
    }
   },
   "outputs": [
    {
     "data": {
      "text/plain": [
       "   | Humans with an unknown blood type\n",
       "---+-----------------------------------\n",
       " 1 | john                             "
      ]
     },
     "execution_count": 25,
     "metadata": {},
     "output_type": "execute_result"
    }
   ],
   "source": [
    "query = \"\"\"MATCH\n",
    "(humans) -[:IS_A]-> ({name: 'human'})\n",
    "WHERE\n",
    "NOT (humans) -[:IS_THE_SOURCE_OF]-> () -[:IS_A]-> ({name: \"has blood type\"})\n",
    "RETURN\n",
    "humans.name AS `Humans with an unknown blood type`\"\"\"\n",
    "\n",
    "graph.cypher.execute(query)"
   ]
  },
  {
   "cell_type": "markdown",
   "metadata": {
    "slideshow": {
     "slide_type": "slide"
    }
   },
   "source": [
    "##### So what?\n",
    "\n",
    "We have identified a recommendation (\"Jane is a viable kidney donor\") and an unknown (\"What is John's blood type?\").\n",
    "\n",
    "##### This approach seems overly-complex!\n",
    "\n",
    "Defining one node and two relationships for each connection does seem unnecessary, but we must define relationships **between connections** as well.\n",
    "\n",
    "##### Why?\n",
    "\n",
    "With this implementation, the graph database contains all of the information required to support a modeling user interface.\n",
    "\n",
    "*From this point on, I'll use the word \"user\" to mean modelers, subject matter experts, and project managers, but not software developers.*\n",
    "\n",
    "User views of the project model/data should never look like the crowded visualizations above. Users should only interact with diagrams that focus the visualizations and constrain their actions to legal ones.\n",
    "\n",
    "User actions (creating/editing/deleting an element or connection) should be limited by:\n",
    "\n",
    "* the diagram's subset of nodes\n",
    "* the diagram's subset of relationships\n",
    "* the existing project data in the database\n",
    "* the model's definitions of what elements/connections can be made\n",
    "* the metamodel's definitions of what elements/connections can be made\n",
    "\n",
    "The metamodel/model/instance graph database implementation described on this page provides a technologically-minimalist modeling tool with the logical complexity to express any project's model/data and contrain any diagramming interface's user actions.\n",
    "\n",
    "I look forward to implementing such a diagramming interface and asking the graph database questions like:\n",
    "\n",
    "* What are all undefined properties for elements in this diagram?\n",
    "* For the currently-selected element, what are all elements to which it can connect?\n",
    "* What are all the possible \"Connect X to Y with Z\" buttons for the toolbar of this diagram?\n",
    "\n",
    "**Thanks for reading! I'd love to hear your thoughts/questions about anything on this page.**\n",
    "\n",
    "\\- Jan"
   ]
  }
 ],
 "metadata": {
  "celltoolbar": "Slideshow",
  "kernelspec": {
   "display_name": "Python 3",
   "language": "python",
   "name": "python3"
  },
  "language_info": {
   "codemirror_mode": {
    "name": "ipython",
    "version": 3
   },
   "file_extension": ".py",
   "mimetype": "text/x-python",
   "name": "python",
   "nbconvert_exporter": "python",
   "pygments_lexer": "ipython3",
   "version": "3.4.3"
  }
 },
 "nbformat": 4,
 "nbformat_minor": 0
}
